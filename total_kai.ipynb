{
 "metadata": {
  "language_info": {
   "codemirror_mode": {
    "name": "ipython",
    "version": 3
   },
   "file_extension": ".py",
   "mimetype": "text/x-python",
   "name": "python",
   "nbconvert_exporter": "python",
   "pygments_lexer": "ipython3",
   "version": "3.8.5-final"
  },
  "orig_nbformat": 2,
  "kernelspec": {
   "name": "Python 3.8.5 64-bit",
   "display_name": "Python 3.8.5 64-bit",
   "metadata": {
    "interpreter": {
     "hash": "2db524e06e9f5f4ffedc911c917cb75e12dbc923643829bf417064a77eb14d37"
    }
   }
  }
 },
 "nbformat": 4,
 "nbformat_minor": 2,
 "cells": [
  {
   "cell_type": "code",
   "execution_count": 8,
   "metadata": {},
   "outputs": [],
   "source": [
    "import pandas as pd\n",
    "import numpy as np\n",
    "from tqdm import tqdm\n",
    "import konlpy\n",
    "from sklearn.feature_extraction.text import TfidfVectorizer\n",
    "from sklearn.feature_extraction.text import CountVectorizer\n",
    "from sklearn.naive_bayes import MultinomialNB\n",
    "from sklearn.metrics import accuracy_score"
   ]
  },
  {
   "cell_type": "code",
   "execution_count": 9,
   "metadata": {},
   "outputs": [],
   "source": [
    "import pandas as pd\n",
    "import numpy as np\n",
    "from tqdm import tqdm\n",
    "import konlpy\n",
    "from sklearn.feature_extraction.text import TfidfVectorizer\n",
    "from sklearn.feature_extraction.text import CountVectorizer\n",
    "from sklearn.naive_bayes import MultinomialNB\n",
    "from sklearn.metrics import accuracy_score\n",
    "\n",
    "import pickle\n",
    "with open('total_tokens_moong.pickle', 'rb') as f:\n",
    "    train_x = pickle.load(f) # 단 한줄씩 읽어옴\n",
    "with open('total_label_moong.pickle', 'rb') as f:\n",
    "    train_y = pickle.load(f) # 단 한줄씩 읽어옴"
   ]
  },
  {
   "cell_type": "code",
   "execution_count": 10,
   "metadata": {},
   "outputs": [],
   "source": [
    "# 긍정 / 혹은 부정 문장리스트\n",
    "def wordCount(data, word):\n",
    "    cnt = 0;\n",
    "    for sentence in data:\n",
    "        if word in sentence:\n",
    "            cnt += 1\n",
    "    return cnt;\n",
    "\n",
    "# data : 긍/ 부정 문서 리스트 \n",
    "# data[0] : 부정 문서 싹다.\n",
    "# data[1] : 긍정 문서 싹다. \n",
    "# w : 단어 \n",
    "# c : 긍정, 부정\n",
    "# return 카이제곱 통계량\n",
    "def getKai(datas, word, isPositive):\n",
    "    A = wordCount(datas[isPositive], word)\n",
    "    B = wordCount(datas[(isPositive+1)%2], w)\n",
    "    C = len(datas[isPositive]) - A\n",
    "    D = len(datas[(isPositive+1)%2]) - B\n",
    "    # 분모가 0이면 0을 리턴함.\n",
    "    if ((A+B)*(A+C)*(B+D)*(C+D)) == 0:\n",
    "        return 0\n",
    "    return ((A+B+C+D)*((A*D-B*C)*(A*D-B*C))) / ((A+B)*(A+C)*(B+D)*(C+D))\n",
    "train_x = list(train_x)\n",
    "train_y = list(train_y)"
   ]
  },
  {
   "cell_type": "code",
   "execution_count": 11,
   "metadata": {},
   "outputs": [],
   "source": [
    "words = []\n",
    "for s in train_x:\n",
    "    for w in s:\n",
    "        words.append(w)\n",
    "# 중복 제거\n",
    "words = list(set(words))\n",
    "# 긍/부정 문서로 나눈다.\n",
    "data, dataP, dataN = [], [], []\n",
    "for i in range(len(train_x)):\n",
    "    if(train_y[i] == 1):\n",
    "        dataP.append(train_x[i])\n",
    "    else:\n",
    "        dataN.append(train_x[i])\n",
    "data =[dataN, dataP]"
   ]
  },
  {
   "cell_type": "code",
   "execution_count": 6,
   "metadata": {},
   "outputs": [
    {
     "output_type": "execute_result",
     "data": {
      "text/plain": [
       "97375"
      ]
     },
     "metadata": {},
     "execution_count": 6
    }
   ],
   "source": [
    "kai_dict = []\n",
    "for w in tqdm(words):\n",
    "    kai_dict.append(getKai(data, w, 0))\n",
    "kaiRate = pd.DataFrame()\n",
    "kaiRate['words'] = words\n",
    "kaiRate.index = words\n",
    "kaiRate['word_kai'] = kai_dict\n",
    "# kaiRate은 카이제곱 정렬 상위 단어 \n",
    "kaiRate = kaiRate.sort_values(by=['word_kai'],ascending=False)"
   ]
  },
  {
   "cell_type": "code",
   "execution_count": null,
   "metadata": {},
   "outputs": [],
   "source": [
    "with open('kaiRate_total_moong_ordered.pickle', 'wb') as f:\n",
    "    pickle.dump(kaiRate, f)"
   ]
  },
  {
   "cell_type": "code",
   "execution_count": null,
   "metadata": {},
   "outputs": [],
   "source": [
    "const_kai   = 101188   #구할 카이제곱상위 단어의 개수\n",
    "realkaiRate = kaiRate[:const_kai]\n",
    "realkaiRate = list(realkaiRate[\"words\"])"
   ]
  },
  {
   "cell_type": "code",
   "execution_count": null,
   "metadata": {},
   "outputs": [],
   "source": [
    "v2 = CountVectorizer()\n",
    "# v2 = CountVectorizer()\n",
    "# # 기본단어\n",
    "# cntVectorizer_words = v1.fit(words)\n",
    "# 카이제곱 상위 단어\n",
    "cntVectorizer_kai = v2.fit(realkaiRate)\n",
    "with open('200000_kaiRate_cntvctrz_fit.pickle', 'wb') as f:\n",
    "    pickle.dump(cntVectorizer_kai, f)"
   ]
  },
  {
   "cell_type": "code",
   "execution_count": null,
   "metadata": {},
   "outputs": [],
   "source": [
    "import pickle\n",
    "with open('total_tokens_moong.pickle', 'rb') as f:\n",
    "    train_x = pickle.load(f) # 단 한줄씩 읽어옴\n",
    "with open('total_label_moong.pickle', 'rb') as f:\n",
    "    train_y = pickle.load(f) # 단 한줄씩 읽어옴"
   ]
  },
  {
   "cell_type": "code",
   "execution_count": null,
   "metadata": {},
   "outputs": [],
   "source": [
    "xx = []\n",
    "for s in tqdm(train_x):\n",
    "    ss = \"\"\n",
    "    for w in s:\n",
    "        ss += (w + \" \")\n",
    "    xx.append(ss)\n",
    "train_x = xx"
   ]
  },
  {
   "cell_type": "code",
   "execution_count": 7,
   "metadata": {},
   "outputs": [
    {
     "output_type": "error",
     "ename": "NameError",
     "evalue": "name 'k_train' is not defined",
     "traceback": [
      "\u001b[1;31m---------------------------------------------------------------------------\u001b[0m",
      "\u001b[1;31mNameError\u001b[0m                                 Traceback (most recent call last)",
      "\u001b[1;32m<ipython-input-7-e733c263d9f9>\u001b[0m in \u001b[0;36m<module>\u001b[1;34m\u001b[0m\n\u001b[0;32m      4\u001b[0m \u001b[0mclassifier\u001b[0m \u001b[1;33m=\u001b[0m \u001b[0mMultinomialNB\u001b[0m\u001b[1;33m(\u001b[0m\u001b[1;33m)\u001b[0m\u001b[1;33m\u001b[0m\u001b[1;33m\u001b[0m\u001b[0m\n\u001b[0;32m      5\u001b[0m \u001b[1;33m\u001b[0m\u001b[0m\n\u001b[1;32m----> 6\u001b[1;33m \u001b[0mclassifier\u001b[0m\u001b[1;33m.\u001b[0m\u001b[0mfit\u001b[0m\u001b[1;33m(\u001b[0m\u001b[0mk_train\u001b[0m\u001b[1;33m,\u001b[0m \u001b[0mtrain_y\u001b[0m\u001b[1;33m)\u001b[0m\u001b[1;33m\u001b[0m\u001b[1;33m\u001b[0m\u001b[0m\n\u001b[0m\u001b[0;32m      7\u001b[0m \u001b[1;33m\u001b[0m\u001b[0m\n\u001b[0;32m      8\u001b[0m \u001b[1;31m# pred = classifier.predict(k_test).tolist()\u001b[0m\u001b[1;33m\u001b[0m\u001b[1;33m\u001b[0m\u001b[1;33m\u001b[0m\u001b[0m\n",
      "\u001b[1;31mNameError\u001b[0m: name 'k_train' is not defined"
     ]
    }
   ],
   "source": [
    "from sklearn.naive_bayes import MultinomialNB\n",
    "from sklearn.metrics import accuracy_score\n",
    "\n",
    "classifier = MultinomialNB()\n",
    "\n",
    "classifier.fit(k_train, train_y)\n",
    "\n",
    "# pred = classifier.predict(k_test).tolist()\n",
    "\n",
    "# print('Accuracy1: %.10f' % accuracy_score(test_y, pred))"
   ]
  },
  {
   "cell_type": "code",
   "execution_count": null,
   "metadata": {},
   "outputs": [],
   "source": []
  },
  {
   "cell_type": "code",
   "execution_count": null,
   "metadata": {},
   "outputs": [],
   "source": []
  }
 ]
}