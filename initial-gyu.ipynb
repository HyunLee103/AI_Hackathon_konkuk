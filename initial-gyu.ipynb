{
 "metadata": {
  "language_info": {
   "codemirror_mode": {
    "name": "ipython",
    "version": 3
   },
   "file_extension": ".py",
   "mimetype": "text/x-python",
   "name": "python",
   "nbconvert_exporter": "python",
   "pygments_lexer": "ipython3",
   "version": "3.8.5-final"
  },
  "orig_nbformat": 2,
  "kernelspec": {
   "name": "Python 3.8.5 64-bit ('venv')",
   "display_name": "Python 3.8.5 64-bit ('venv')",
   "metadata": {
    "interpreter": {
     "hash": "c9d1ef56ba3a89973ce19e2cab0eb87bb40f101444c8f564e59e14fa8aeba183"
    }
   }
  }
 },
 "nbformat": 4,
 "nbformat_minor": 2,
 "cells": [
  {
   "cell_type": "code",
   "execution_count": null,
   "metadata": {},
   "outputs": [],
   "source": [
    "import re\n",
    "\n",
    "def load_data(path):\n",
    "    sentences = []\n",
    "    labels = []\n",
    "\n",
    "    with open(path, 'r', encoding='utf-8') as fp:\n",
    "        lines = fp.readlines()\n",
    "        for line in lines:\n",
    "            _, sentence, label = line.strip().split('\\t')\n",
    "            cleaned_sentence = re.sub('[^ㄱ-ㅎ|ㅏ-ㅣ|가-힣]+', ' ', sentence).strip()\n",
    "            if cleaned_sentence:\n",
    "                sentences.append(cleaned_sentence) \n",
    "                labels.append(label)\n",
    "\n",
    "        return sentences, labels"
   ]
  },
  {
   "cell_type": "code",
   "execution_count": null,
   "metadata": {},
   "outputs": [],
   "source": [
    "train_sentence, train_label = load_data('ratings_train.txt')\n",
    "test_sentence, test_label = load_data('ratings_test.txt')\n",
    "\n",
    "train_sentence[:10]"
   ]
  },
  {
   "cell_type": "code",
   "execution_count": null,
   "metadata": {},
   "outputs": [],
   "source": [
    "from konlpy.tag import Okt\n",
    "\n",
    "def tokenize(sentence):\n",
    "    \"\"\"\n",
    "    형태소로 분리 및 조사는 따로 list 만들어서 리턴\n",
    "    \"\"\"\n",
    "    tokenizer = Okt()\n",
    "    morphs_pos = tokenizer.pos(sentence)\n",
    "    tokens = []\n",
    "    stop_words = []\n",
    "    for mp in morphs_pos:\n",
    "        if mp[1] == 'Josa':\n",
    "            stop_words.append(mp[0])\n",
    "        tokens.append(mp[0])\n",
    "    return tokens, stop_words\n",
    "\n",
    "tokenized_train_sentence, train_stop_words = [tokenize(sentence) for sentence in train_sentence]\n",
    "tokenized_test_sentence, test_stop_words = [tokenize(sentence) for sentence in test_sentence]\n",
    "\n",
    "tokenized_train_sentence[:10]"
   ]
  },
  {
   "cell_type": "code",
   "execution_count": null,
   "metadata": {},
   "outputs": [],
   "source": [
    "# save results\n",
    "import pandas as pd\n",
    "\n",
    "df = pd.DataFrame()\n"
   ]
  },
  {
   "cell_type": "code",
   "execution_count": null,
   "metadata": {},
   "outputs": [],
   "source": [
    "from keras.preprocessing.text import Tokenizer\n",
    "\n",
    "tokenizer = Tokenizer(num_words=1000)\n",
    "tokenizer.fit_on_texts(train_sentence_cleaned)\n",
    "\n",
    "# 문자열을 인덱스의 리스트로 변환\n",
    "sequences = tokenizer.texts_to_matrix(train_sentence_cleaned, mode='count').tolist()\n",
    "\n",
    "# 계산된 단어 인덱스를 dictionary 형태로 확인\n",
    "word_index = tokenizer.word_index\n",
    "print('Found %s unique tokens.' % len(word_index))"
   ]
  },
  {
   "cell_type": "code",
   "execution_count": null,
   "metadata": {},
   "outputs": [],
   "source": [
    "from sklearn.svm import SVC\n",
    "\n",
    "train_x = sequences\n",
    "train_y = train_label\n",
    "\n",
    "svm = SVC(kernel='rbf')\n",
    "svm.fit(train_x, train_y)"
   ]
  },
  {
   "cell_type": "code",
   "execution_count": null,
   "metadata": {},
   "outputs": [],
   "source": [
    "from sklearn.metrics import accuracy_score\n",
    "\n",
    "prediction = svm.predict(test_x)\n",
    "print('Accuracy: %.2f' % accuracy_score(test_y, prediction))"
   ]
  }
 ]
}