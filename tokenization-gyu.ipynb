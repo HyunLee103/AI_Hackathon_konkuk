{
  "nbformat": 4,
  "nbformat_minor": 0,
  "metadata": {
    "colab": {
      "name": "ku-ai-hackathon.ipynb",
      "provenance": [],
      "collapsed_sections": [],
      "mount_file_id": "1YczGRo0GQYHas0mD6oQ6q31e2VEnNejh",
      "authorship_tag": "ABX9TyO6XYf92ySYdyvGZA5nO07k",
      "include_colab_link": true
    },
    "kernelspec": {
      "name": "python3",
      "display_name": "Python 3"
    },
    "accelerator": "GPU"
  },
  "cells": [
    {
      "cell_type": "markdown",
      "metadata": {
        "id": "view-in-github",
        "colab_type": "text"
      },
      "source": [
        "<a href=\"https://colab.research.google.com/github/HyunLee103/AI_Hackathon_konkuk/blob/gyu/tokenization-gyu.ipynb\" target=\"_parent\"><img src=\"https://colab.research.google.com/assets/colab-badge.svg\" alt=\"Open In Colab\"/></a>"
      ]
    },
    {
      "cell_type": "markdown",
      "metadata": {
        "id": "Lf8JmlDe-Xy1"
      },
      "source": [
        "# Tokenizing 관련 노트북\n"
      ]
    },
    {
      "cell_type": "markdown",
      "metadata": {
        "id": "Sqj0cU6RAMXq"
      },
      "source": [
        "## Install requirements - Only in colab"
      ]
    },
    {
      "cell_type": "code",
      "metadata": {
        "id": "8FbZZ_dWAHER",
        "outputId": "da647165-ff4b-4774-bf27-a5b57d20f6d1",
        "colab": {
          "base_uri": "https://localhost:8080/",
          "height": 578
        }
      },
      "source": [
        "!pip install konlpy"
      ],
      "execution_count": 2,
      "outputs": [
        {
          "output_type": "stream",
          "text": [
            "Collecting konlpy\n",
            "\u001b[?25l  Downloading https://files.pythonhosted.org/packages/85/0e/f385566fec837c0b83f216b2da65db9997b35dd675e107752005b7d392b1/konlpy-0.5.2-py2.py3-none-any.whl (19.4MB)\n",
            "\u001b[K     |████████████████████████████████| 19.4MB 79.3MB/s \n",
            "\u001b[?25hRequirement already satisfied: numpy>=1.6 in /usr/local/lib/python3.6/dist-packages (from konlpy) (1.18.5)\n",
            "Requirement already satisfied: lxml>=4.1.0 in /usr/local/lib/python3.6/dist-packages (from konlpy) (4.2.6)\n",
            "Collecting colorama\n",
            "  Downloading https://files.pythonhosted.org/packages/44/98/5b86278fbbf250d239ae0ecb724f8572af1c91f4a11edf4d36a206189440/colorama-0.4.4-py2.py3-none-any.whl\n",
            "Collecting JPype1>=0.7.0\n",
            "\u001b[?25l  Downloading https://files.pythonhosted.org/packages/8b/f7/a368401e630f0e390dd0e62c39fb928e5b23741b53c2360ee7d376660927/JPype1-1.0.2-cp36-cp36m-manylinux2010_x86_64.whl (3.8MB)\n",
            "\u001b[K     |████████████████████████████████| 3.8MB 51.8MB/s \n",
            "\u001b[?25hCollecting beautifulsoup4==4.6.0\n",
            "\u001b[?25l  Downloading https://files.pythonhosted.org/packages/9e/d4/10f46e5cfac773e22707237bfcd51bbffeaf0a576b0a847ec7ab15bd7ace/beautifulsoup4-4.6.0-py3-none-any.whl (86kB)\n",
            "\u001b[K     |████████████████████████████████| 92kB 13.1MB/s \n",
            "\u001b[?25hCollecting tweepy>=3.7.0\n",
            "  Downloading https://files.pythonhosted.org/packages/bb/7c/99d51f80f3b77b107ebae2634108717362c059a41384a1810d13e2429a81/tweepy-3.9.0-py2.py3-none-any.whl\n",
            "Requirement already satisfied: typing-extensions; python_version < \"3.8\" in /usr/local/lib/python3.6/dist-packages (from JPype1>=0.7.0->konlpy) (3.7.4.3)\n",
            "Requirement already satisfied: requests-oauthlib>=0.7.0 in /usr/local/lib/python3.6/dist-packages (from tweepy>=3.7.0->konlpy) (1.3.0)\n",
            "Requirement already satisfied: six>=1.10.0 in /usr/local/lib/python3.6/dist-packages (from tweepy>=3.7.0->konlpy) (1.15.0)\n",
            "Requirement already satisfied: requests[socks]>=2.11.1 in /usr/local/lib/python3.6/dist-packages (from tweepy>=3.7.0->konlpy) (2.23.0)\n",
            "Requirement already satisfied: oauthlib>=3.0.0 in /usr/local/lib/python3.6/dist-packages (from requests-oauthlib>=0.7.0->tweepy>=3.7.0->konlpy) (3.1.0)\n",
            "Requirement already satisfied: urllib3!=1.25.0,!=1.25.1,<1.26,>=1.21.1 in /usr/local/lib/python3.6/dist-packages (from requests[socks]>=2.11.1->tweepy>=3.7.0->konlpy) (1.24.3)\n",
            "Requirement already satisfied: idna<3,>=2.5 in /usr/local/lib/python3.6/dist-packages (from requests[socks]>=2.11.1->tweepy>=3.7.0->konlpy) (2.10)\n",
            "Requirement already satisfied: chardet<4,>=3.0.2 in /usr/local/lib/python3.6/dist-packages (from requests[socks]>=2.11.1->tweepy>=3.7.0->konlpy) (3.0.4)\n",
            "Requirement already satisfied: certifi>=2017.4.17 in /usr/local/lib/python3.6/dist-packages (from requests[socks]>=2.11.1->tweepy>=3.7.0->konlpy) (2020.6.20)\n",
            "Requirement already satisfied: PySocks!=1.5.7,>=1.5.6; extra == \"socks\" in /usr/local/lib/python3.6/dist-packages (from requests[socks]>=2.11.1->tweepy>=3.7.0->konlpy) (1.7.1)\n",
            "Installing collected packages: colorama, JPype1, beautifulsoup4, tweepy, konlpy\n",
            "  Found existing installation: beautifulsoup4 4.6.3\n",
            "    Uninstalling beautifulsoup4-4.6.3:\n",
            "      Successfully uninstalled beautifulsoup4-4.6.3\n",
            "  Found existing installation: tweepy 3.6.0\n",
            "    Uninstalling tweepy-3.6.0:\n",
            "      Successfully uninstalled tweepy-3.6.0\n",
            "Successfully installed JPype1-1.0.2 beautifulsoup4-4.6.0 colorama-0.4.4 konlpy-0.5.2 tweepy-3.9.0\n"
          ],
          "name": "stdout"
        }
      ]
    },
    {
      "cell_type": "markdown",
      "metadata": {
        "id": "Z25gaX_5Aw_c"
      },
      "source": [
        "## Preprocessing"
      ]
    },
    {
      "cell_type": "markdown",
      "metadata": {
        "id": "4YP3lkiKDtVl"
      },
      "source": [
        "### Load Data\n"
      ]
    },
    {
      "cell_type": "code",
      "metadata": {
        "id": "K8JA4wiO-SlC"
      },
      "source": [
        "base_dir = '/content/drive/My Drive/ku-ai'"
      ],
      "execution_count": 3,
      "outputs": []
    },
    {
      "cell_type": "code",
      "metadata": {
        "id": "iW4ZFvG9_6pd",
        "outputId": "aeede977-eb35-4c04-e896-496bc01434ac",
        "colab": {
          "base_uri": "https://localhost:8080/",
          "height": 187
        }
      },
      "source": [
        "import os\n",
        "import re\n",
        "\n",
        "def load_data(path):\n",
        "    sentences = []\n",
        "    labels = []\n",
        "\n",
        "    with open(path, 'r', encoding='utf-8') as fp:\n",
        "        lines = fp.readlines()\n",
        "        for line in lines:\n",
        "            _, sentence, label = line.strip().split('\\t')\n",
        "            cleaned_sentence = re.sub('[^ㄱ-ㅎ|ㅏ-ㅣ|가-힣]+', ' ', sentence).strip()\n",
        "            if cleaned_sentence:\n",
        "                sentences.append(cleaned_sentence) \n",
        "                labels.append(label)\n",
        "\n",
        "        return sentences, labels\n",
        "\n",
        "train_sentence, train_label = load_data(os.path.join(base_dir, 'ratings_train.txt'))\n",
        "test_sentence, test_label = load_data(os.path.join(base_dir, 'ratings_test.txt'))\n",
        "\n",
        "train_sentence[:10]"
      ],
      "execution_count": 4,
      "outputs": [
        {
          "output_type": "execute_result",
          "data": {
            "text/plain": [
              "['아 더빙 진짜 짜증나네요 목소리',\n",
              " '흠 포스터보고 초딩영화줄 오버연기조차 가볍지 않구나',\n",
              " '너무재밓었다그래서보는것을추천한다',\n",
              " '교도소 이야기구먼 솔직히 재미는 없다 평점 조정',\n",
              " '사이몬페그의 익살스런 연기가 돋보였던 영화 스파이더맨에서 늙어보이기만 했던 커스틴 던스트가 너무나도 이뻐보였다',\n",
              " '막 걸음마 뗀 세부터 초등학교 학년생인 살용영화 ㅋㅋㅋ 별반개도 아까움',\n",
              " '원작의 긴장감을 제대로 살려내지못했다',\n",
              " '별 반개도 아깝다 욕나온다 이응경 길용우 연기생활이몇년인지 정말 발로해도 그것보단 낫겟다 납치 감금만반복반복 이드라마는 가족도없다 연기못하는사람만모엿네',\n",
              " '액션이 없는데도 재미 있는 몇안되는 영화',\n",
              " '왜케 평점이 낮은건데 꽤 볼만한데 헐리우드식 화려함에만 너무 길들여져 있나']"
            ]
          },
          "metadata": {
            "tags": []
          },
          "execution_count": 4
        }
      ]
    },
    {
      "cell_type": "markdown",
      "metadata": {
        "id": "KMQ3fw2CDwUa"
      },
      "source": [
        "### Tokenization (형태소분석 및 조사는 따로 저장 - Stop Words 로 쓸 생각)"
      ]
    },
    {
      "cell_type": "code",
      "metadata": {
        "id": "_LdaHREqAKbe",
        "outputId": "f4fe0fd2-694d-4c1c-9e02-3132074f73b8",
        "colab": {
          "base_uri": "https://localhost:8080/",
          "height": 88
        }
      },
      "source": [
        "from konlpy.tag import Okt\n",
        "\n",
        "tokenizer = Okt()\n",
        "tokenized_train_sentence = []\n",
        "tokenized_test_sentence = []\n",
        "stop_words = []\n",
        "\n",
        "for sentence in train_sentence:\n",
        "    morphs_pos = tokenizer.pos(sentence)\n",
        "    tokens = []\n",
        "    for mp in morphs_pos:\n",
        "        if mp[1] == 'Josa':\n",
        "            stop_words.append(mp[0])\n",
        "        tokens.append(mp[0])\n",
        "    tokenized_train_sentence.append(tokens)\n",
        "\n",
        "for sentence in test_sentence:\n",
        "    morphs_pos = tokenizer.pos(sentence)\n",
        "    tokens = []\n",
        "    for mp in morphs_pos:\n",
        "        if mp[1] == 'Josa':\n",
        "            stop_words.append(mp[0])\n",
        "        tokens.append(mp[0])\n",
        "    tokenized_test_sentence.append(tokens)\n",
        "\n",
        "print(tokenized_train_sentence[:10])\n",
        "print(tokenized_test_sentence[:10])\n",
        "print(stop_words[:10])"
      ],
      "execution_count": 5,
      "outputs": [
        {
          "output_type": "stream",
          "text": [
            "[['아', '더빙', '진짜', '짜증나네요', '목소리'], ['흠', '포스터', '보고', '초딩', '영화', '줄', '오버', '연기', '조차', '가볍지', '않구나'], ['너', '무재', '밓었', '다그', '래서', '보는것을', '추천', '한', '다'], ['교도소', '이야기', '구먼', '솔직히', '재미', '는', '없다', '평점', '조정'], ['사이', '몬페', '그', '의', '익살스런', '연기', '가', '돋보였던', '영화', '스파이더맨', '에서', '늙어', '보이기만', '했던', '커스틴', '던스트', '가', '너무나도', '이뻐', '보였다'], ['막', '걸음', '마', '뗀', '세', '부터', '초등학교', '학년', '생인', '살용', '영화', 'ㅋㅋㅋ', '별', '반개', '도', '아까', '움'], ['원작', '의', '긴장감', '을', '제대로', '살려내지못', '했다'], ['별', '반개', '도', '아깝다', '욕', '나온다', '이응경', '길용우', '연', '기', '생활', '이', '몇', '년', '인지', '정말', '발', '로', '해도', '그것', '보단', '낫겟다', '납치', '감금', '만', '반복', '반복', '이', '드라마', '는', '가족', '도', '없다', '연기', '못', '하는', '사람', '만', '모', '엿', '네'], ['액션', '이', '없는데도', '재미', '있는', '몇', '안되는', '영화'], ['왜케', '평점', '이', '낮은건데', '꽤', '볼', '만', '한', '데', '헐리우드', '식', '화려함에만', '너무', '길들여져', '있나']]\n",
            "[['굳', 'ㅋ'], ['뭐', '야', '이', '평점', '들', '은', '나쁘진', '않지만', '점', '짜', '리', '는', '더', '더욱', '아니잖아'], ['지루하지는', '않은데', '완전', '막장', '임', '돈', '주고', '보기', '에는'], ['만', '아니었어도', '별', '다섯', '개', '줬을텐데', '왜', '로', '나와서', '제', '심기', '를', '불편하게', '하죠'], ['음악', '이', '주가', '된', '최고', '의', '음악', '영화'], ['진정한', '쓰레기'], ['마치', '미국', '애니', '에서', '튀어나온듯', '한', '창의력', '없는', '로봇', '디자인', '부터가', '고개', '를', '젖게', '한다'], ['갈수록', '개판', '되가는', '중국영화', '유치하고', '내용', '없음', '폼', '잡다', '끝남', '말', '도', '안되는', '무기', '에', '유치한', '남무', '아', '그립다', '동사서독', '같은', '영화', '가', '이건', '류', '아', '류작', '이다'], ['이별', '의', '아픔', '뒤', '에', '찾아오는', '새로운', '인연', '의', '기쁨', '모든', '사람', '이', '그렇지는', '않네'], ['괜찮네요', '오랜', '만', '포켓몬스터', '잼밌', '어', '요']]\n",
            "['조차', '한', '는', '가', '에서', '가', '부터', '도', '의', '을']\n"
          ],
          "name": "stdout"
        }
      ]
    },
    {
      "cell_type": "markdown",
      "metadata": {
        "id": "a26W3Uu-ILeG"
      },
      "source": [
        "### 임시로 File 에 **저장**"
      ]
    },
    {
      "cell_type": "markdown",
      "metadata": {
        "id": "XNFnlYD5P_7L"
      },
      "source": [
        "#### (sentence, tokens, label) 형식으로 csv 파일로 저장"
      ]
    },
    {
      "cell_type": "code",
      "metadata": {
        "id": "w-ql0pq6B5kF"
      },
      "source": [
        "import pandas as pd\n",
        "import numpy as np\n",
        "\n",
        "train_data = np.array([train_sentence, tokenized_train_sentence, train_label], dtype=object)\n",
        "test_data = np.array([test_sentence, tokenized_test_sentence, test_label], dtype=object)\n",
        "\n",
        "\n",
        "train_df = pd.DataFrame(train_data.T, columns=['sentence', 'tokenized_sentence', 'label'])\n",
        "test_df = pd.DataFrame(test_data.T, columns=['sentence', 'tokenized_sentence', 'label'])\n",
        "\n",
        "train_df.to_csv(os.path.join(base_dir, 'train_data.csv'), index=False)\n",
        "test_df.to_csv(os.path.join(base_dir, 'test_data.csv'), index=False)"
      ],
      "execution_count": 11,
      "outputs": []
    },
    {
      "cell_type": "markdown",
      "metadata": {
        "id": "l7jePgyZQFS4"
      },
      "source": [
        "#### 조사만 모아서 텍스트 파일에 띄어쓰기로 구분하여 저장"
      ]
    },
    {
      "cell_type": "code",
      "metadata": {
        "id": "UJUeHtfQLT8v"
      },
      "source": [
        "stop_words = ' '.join(stop_words)\n",
        "with open(os.path.join(base_dir, 'stop_words.txt'), 'w', encoding='utf-8') as fp:\n",
        "    fp.write(stop_words)"
      ],
      "execution_count": 10,
      "outputs": []
    },
    {
      "cell_type": "markdown",
      "metadata": {
        "id": "h9-973zqQKjo"
      },
      "source": [
        "#### 개수 세서 저장"
      ]
    },
    {
      "cell_type": "code",
      "metadata": {
        "id": "Hh0HIgyiNEnf",
        "outputId": "631d3bd0-d75a-40af-c435-c3b56193b973",
        "colab": {
          "base_uri": "https://localhost:8080/",
          "height": 54
        }
      },
      "source": [
        "from collections import Counter\n",
        "\n",
        "counter = Counter(stop_words.split()).most_common()\n",
        "print(counter)"
      ],
      "execution_count": 16,
      "outputs": [
        {
          "output_type": "stream",
          "text": [
            "[('이', 52203), ('의', 40582), ('에', 36468), ('가', 35611), ('을', 30937), ('도', 26808), ('는', 22560), ('를', 20991), ('은', 20863), ('으로', 10544), ('로', 9609), ('에서', 9327), ('만', 9117), ('과', 8182), ('한', 7798), ('인', 6965), ('다', 6728), ('이다', 6620), ('와', 5564), ('고', 5324), ('게', 5138), ('까지', 5121), ('하고', 4745), ('요', 3816), ('보다', 3689), ('나', 3550), ('지', 2936), ('라', 2736), ('인데', 2728), ('라고', 2453), ('에게', 2160), ('이고', 2154), ('엔', 2113), ('이나', 2111), ('서', 2095), ('랑', 2060), ('면', 2056), ('부터', 2035), ('네', 1891), ('라는', 1837), ('야', 1816), ('아', 1680), ('냐', 1634), ('지만', 1488), ('인가', 1470), ('인지', 1356), ('이네', 1351), ('에는', 1324), ('이랑', 1264), ('이라', 1257), ('처럼', 1202), ('밖에', 1187), ('이라는', 1151), ('한테', 1052), ('에도', 1014), ('이지', 940), ('이라고', 936), ('니', 885), ('이란', 862), ('이야', 828), ('마다', 810), ('이지만', 774), ('니까', 765), ('여', 722), ('든', 716), ('보단', 675), ('라도', 551), ('에요', 519), ('보다는', 519), ('죠', 519), ('이라도', 510), ('라니', 474), ('말고', 473), ('에선', 467), ('으로도', 455), ('에서도', 430), ('치고', 421), ('에서는', 417), ('이에요', 409), ('라서', 406), ('인거', 405), ('이냐', 401), ('래', 395), ('에겐', 389), ('대로', 380), ('난', 373), ('이라니', 366), ('여서', 366), ('만으로도', 352), ('만의', 312), ('예요', 311), ('두', 311), ('스러운', 307), ('이며', 294), ('만큼', 293), ('며', 291), ('같이', 289), ('만에', 278), ('께', 274), ('로는', 267), ('조차', 255), ('으로는', 251), ('만이', 248), ('이래', 238), ('스럽게', 232), ('에서의', 224), ('와는', 223), ('보다도', 219), ('만으로', 217), ('까지는', 210), ('으론', 210), ('에게는', 209), ('이라서', 208), ('까진', 207), ('에만', 207), ('인가요', 203), ('과는', 200), ('까지도', 197), ('에로', 193), ('이니', 190), ('과의', 190), ('마저', 186), ('이든', 185), ('지는', 181), ('이여', 168), ('으로서', 166), ('으로만', 163), ('스럽지', 159), ('냥', 156), ('롭고', 156), ('으로써', 154), ('니깐', 154), ('만큼은', 152), ('인들', 150), ('에나', 146), ('만을', 142), ('이래서', 140), ('만은', 140), ('와의', 135), ('스런', 133), ('말고는', 127), ('이어서', 119), ('부터가', 115), ('에게도', 112), ('토록', 111), ('에다', 110), ('치고는', 108), ('이니까', 99), ('인게', 95), ('하고는', 95), ('와도', 95), ('에다가', 93), ('이구나', 92), ('에서만', 89), ('만도', 89), ('라기', 89), ('에가', 89), ('든지', 87), ('만큼이나', 86), ('에서나', 86), ('이구만', 85), ('랑은', 83), ('이기도', 81), ('부터는', 80), ('까지만', 79), ('마저도', 76), ('인걸', 75), ('로운', 69), ('하고도', 66), ('밖에는', 63), ('께서', 61), ('만큼의', 61), ('조차도', 60), ('로다', 58), ('밖엔', 56), ('이던', 54), ('으로가', 51), ('에여', 50), ('에든', 48), ('에게서', 48), ('이라곤', 47), ('이를', 47), ('으로나', 46), ('부턴', 46), ('에서야', 46), ('이라고는', 43), ('라고는', 42), ('라곤', 42), ('에의', 42), ('이나마', 41), ('만큼도', 40), ('라지', 40), ('까지의', 39), ('에게나', 39), ('과도', 38), ('까지가', 37), ('에야', 36), ('만으로는', 36), ('에서부터', 35), ('이신', 34), ('이라기', 34), ('으로의', 33), ('나마', 32), ('이야말로', 30), ('에게만', 29), ('까지나', 28), ('이래도', 27), ('으로부터', 26), ('일텐데', 24), ('라기보단', 24), ('만치', 23), ('만이라도', 22), ('으로서의', 22), ('라기보다는', 22), ('야말로', 21), ('라네', 21), ('라던가', 19), ('스럽지도', 18), ('엘', 18), ('에라도', 16), ('로군', 16), ('이랑은', 15), ('으로서는', 14), ('대로의', 14), ('으로라도', 14), ('하고만', 12), ('만큼만', 12), ('만으론', 12), ('더러', 12), ('랑께', 12), ('에까지', 12), ('이자나', 11), ('이하고', 11), ('일수록', 11), ('보다만', 10), ('라든가', 10), ('로고', 10), ('로구나', 10), ('로세', 9), ('은커녕', 9), ('말고도', 8), ('까지와', 8), ('으로선', 8), ('이라고도', 8), ('라니까', 8), ('라니깐', 8), ('이신가', 8), ('라든지', 7), ('에게로', 7), ('부터의', 7), ('에서조차', 7), ('이라기보단', 7), ('보다야', 7), ('인가가', 7), ('에서까지', 7), ('이라든지', 6), ('으로써는', 6), ('지롱', 6), ('에서가', 6), ('로군요', 6), ('라오', 6), ('에서라도', 6), ('에를', 6), ('으로서도', 6), ('까지야', 5), ('까지를', 5), ('에게까지', 5), ('에서처럼', 5), ('부터라도', 5), ('는커녕', 5), ('만큼이라도', 5), ('께선', 5), ('마다의', 5), ('에로의', 4), ('같이만', 4), ('예여', 4), ('이오니', 4), ('처럼만', 4), ('는야', 4), ('으로부터의', 4), ('라야', 4), ('이든지', 4), ('에서보다', 4), ('대로는', 4), ('마따나', 4), ('으로까지', 3), ('부터도', 3), ('이라기보다는', 3), ('랑께요', 3), ('까지라도', 2), ('라고까지', 2), ('로서나', 2), ('에게라도', 2), ('하고야', 2), ('와를', 2), ('로되', 2), ('과를', 2), ('에서나마', 2), ('으로만은', 1), ('에게와', 1), ('에서와', 1), ('에게가', 1), ('하고의', 1), ('에서와는', 1), ('부터만', 1), ('에게야', 1), ('과만', 1), ('대로가', 1), ('이실', 1), ('으로서가', 1), ('에조차도', 1), ('까지만이라도', 1), ('밖에도', 1), ('에게서는', 1), ('에게다', 1), ('처럼은', 1), ('라고만은', 1), ('이지롱', 1), ('에서만이', 1), ('하고라도', 1), ('에게든', 1), ('같인', 1), ('이시고', 1), ('라지요', 1), ('께서는', 1), ('처럼도', 1), ('같이도', 1), ('에게서도', 1), ('엔들', 1)]\n"
          ],
          "name": "stdout"
        }
      ]
    },
    {
      "cell_type": "code",
      "metadata": {
        "id": "3bL7EGB8PDoU"
      },
      "source": [
        "with open(os.path.join(base_dir, 'josa_count.txt'), 'w', encoding='utf-8') as fp:\n",
        "    for word, count in counter:\n",
        "        fp.write('{}\\t{}\\n'.format(word, count))"
      ],
      "execution_count": 17,
      "outputs": []
    },
    {
      "cell_type": "code",
      "metadata": {
        "id": "qlv0Z9TYPdwx"
      },
      "source": [
        ""
      ],
      "execution_count": null,
      "outputs": []
    }
  ]
}