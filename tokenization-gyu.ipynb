{
  "nbformat": 4,
  "nbformat_minor": 0,
  "metadata": {
    "colab": {
      "name": "ku-ai-hackathon.ipynb",
      "provenance": [],
      "collapsed_sections": [],
      "mount_file_id": "1YczGRo0GQYHas0mD6oQ6q31e2VEnNejh",
      "authorship_tag": "ABX9TyO9qLndPtzN3aVnNckaIPTb",
      "include_colab_link": true
    },
    "kernelspec": {
      "name": "python3",
      "display_name": "Python 3"
    }
  },
  "cells": [
    {
      "cell_type": "markdown",
      "metadata": {
        "id": "view-in-github",
        "colab_type": "text"
      },
      "source": [
        "<a href=\"https://colab.research.google.com/github/HyunLee103/AI_Hackathon_konkuk/blob/gyu/tokenization-gyu.ipynb\" target=\"_parent\"><img src=\"https://colab.research.google.com/assets/colab-badge.svg\" alt=\"Open In Colab\"/></a>"
      ]
    },
    {
      "cell_type": "markdown",
      "metadata": {
        "id": "Lf8JmlDe-Xy1"
      },
      "source": [
        "# Tokenizing 관련 노트북\n"
      ]
    },
    {
      "cell_type": "markdown",
      "metadata": {
        "id": "Sqj0cU6RAMXq"
      },
      "source": [
        "## Install requirements - Only in colab"
      ]
    },
    {
      "cell_type": "code",
      "metadata": {
        "id": "8FbZZ_dWAHER",
        "outputId": "9c85d1cd-7413-417a-e376-bcdb63010203",
        "colab": {
          "base_uri": "https://localhost:8080/",
          "height": 578
        }
      },
      "source": [
        "!pip install konlpy"
      ],
      "execution_count": 3,
      "outputs": [
        {
          "output_type": "stream",
          "text": [
            "Collecting konlpy\n",
            "\u001b[?25l  Downloading https://files.pythonhosted.org/packages/85/0e/f385566fec837c0b83f216b2da65db9997b35dd675e107752005b7d392b1/konlpy-0.5.2-py2.py3-none-any.whl (19.4MB)\n",
            "\u001b[K     |████████████████████████████████| 19.4MB 1.6MB/s \n",
            "\u001b[?25hCollecting colorama\n",
            "  Downloading https://files.pythonhosted.org/packages/44/98/5b86278fbbf250d239ae0ecb724f8572af1c91f4a11edf4d36a206189440/colorama-0.4.4-py2.py3-none-any.whl\n",
            "Collecting beautifulsoup4==4.6.0\n",
            "\u001b[?25l  Downloading https://files.pythonhosted.org/packages/9e/d4/10f46e5cfac773e22707237bfcd51bbffeaf0a576b0a847ec7ab15bd7ace/beautifulsoup4-4.6.0-py3-none-any.whl (86kB)\n",
            "\u001b[K     |████████████████████████████████| 92kB 10.7MB/s \n",
            "\u001b[?25hCollecting tweepy>=3.7.0\n",
            "  Downloading https://files.pythonhosted.org/packages/bb/7c/99d51f80f3b77b107ebae2634108717362c059a41384a1810d13e2429a81/tweepy-3.9.0-py2.py3-none-any.whl\n",
            "Collecting JPype1>=0.7.0\n",
            "\u001b[?25l  Downloading https://files.pythonhosted.org/packages/8b/f7/a368401e630f0e390dd0e62c39fb928e5b23741b53c2360ee7d376660927/JPype1-1.0.2-cp36-cp36m-manylinux2010_x86_64.whl (3.8MB)\n",
            "\u001b[K     |████████████████████████████████| 3.8MB 47.3MB/s \n",
            "\u001b[?25hRequirement already satisfied: numpy>=1.6 in /usr/local/lib/python3.6/dist-packages (from konlpy) (1.18.5)\n",
            "Requirement already satisfied: lxml>=4.1.0 in /usr/local/lib/python3.6/dist-packages (from konlpy) (4.2.6)\n",
            "Requirement already satisfied: requests-oauthlib>=0.7.0 in /usr/local/lib/python3.6/dist-packages (from tweepy>=3.7.0->konlpy) (1.3.0)\n",
            "Requirement already satisfied: requests[socks]>=2.11.1 in /usr/local/lib/python3.6/dist-packages (from tweepy>=3.7.0->konlpy) (2.23.0)\n",
            "Requirement already satisfied: six>=1.10.0 in /usr/local/lib/python3.6/dist-packages (from tweepy>=3.7.0->konlpy) (1.15.0)\n",
            "Requirement already satisfied: typing-extensions; python_version < \"3.8\" in /usr/local/lib/python3.6/dist-packages (from JPype1>=0.7.0->konlpy) (3.7.4.3)\n",
            "Requirement already satisfied: oauthlib>=3.0.0 in /usr/local/lib/python3.6/dist-packages (from requests-oauthlib>=0.7.0->tweepy>=3.7.0->konlpy) (3.1.0)\n",
            "Requirement already satisfied: urllib3!=1.25.0,!=1.25.1,<1.26,>=1.21.1 in /usr/local/lib/python3.6/dist-packages (from requests[socks]>=2.11.1->tweepy>=3.7.0->konlpy) (1.24.3)\n",
            "Requirement already satisfied: certifi>=2017.4.17 in /usr/local/lib/python3.6/dist-packages (from requests[socks]>=2.11.1->tweepy>=3.7.0->konlpy) (2020.6.20)\n",
            "Requirement already satisfied: chardet<4,>=3.0.2 in /usr/local/lib/python3.6/dist-packages (from requests[socks]>=2.11.1->tweepy>=3.7.0->konlpy) (3.0.4)\n",
            "Requirement already satisfied: idna<3,>=2.5 in /usr/local/lib/python3.6/dist-packages (from requests[socks]>=2.11.1->tweepy>=3.7.0->konlpy) (2.10)\n",
            "Requirement already satisfied: PySocks!=1.5.7,>=1.5.6; extra == \"socks\" in /usr/local/lib/python3.6/dist-packages (from requests[socks]>=2.11.1->tweepy>=3.7.0->konlpy) (1.7.1)\n",
            "Installing collected packages: colorama, beautifulsoup4, tweepy, JPype1, konlpy\n",
            "  Found existing installation: beautifulsoup4 4.6.3\n",
            "    Uninstalling beautifulsoup4-4.6.3:\n",
            "      Successfully uninstalled beautifulsoup4-4.6.3\n",
            "  Found existing installation: tweepy 3.6.0\n",
            "    Uninstalling tweepy-3.6.0:\n",
            "      Successfully uninstalled tweepy-3.6.0\n",
            "Successfully installed JPype1-1.0.2 beautifulsoup4-4.6.0 colorama-0.4.4 konlpy-0.5.2 tweepy-3.9.0\n"
          ],
          "name": "stdout"
        }
      ]
    },
    {
      "cell_type": "markdown",
      "metadata": {
        "id": "Z25gaX_5Aw_c"
      },
      "source": [
        "## Preprocessing"
      ]
    },
    {
      "cell_type": "markdown",
      "metadata": {
        "id": "4YP3lkiKDtVl"
      },
      "source": [
        "### Load Data\n"
      ]
    },
    {
      "cell_type": "code",
      "metadata": {
        "id": "K8JA4wiO-SlC"
      },
      "source": [
        "base_dir = '/content/drive/My Drive/ku-ai'"
      ],
      "execution_count": 3,
      "outputs": []
    },
    {
      "cell_type": "code",
      "metadata": {
        "id": "iW4ZFvG9_6pd",
        "outputId": "98a8c23c-ed2a-4d44-d0f5-4b1e45422f25",
        "colab": {
          "base_uri": "https://localhost:8080/",
          "height": 187
        }
      },
      "source": [
        "import os\n",
        "import re\n",
        "\n",
        "def load_data(path):\n",
        "    sentences = []\n",
        "    labels = []\n",
        "\n",
        "    with open(path, 'r', encoding='utf-8') as fp:\n",
        "        lines = fp.readlines()\n",
        "        for line in lines:\n",
        "            _, sentence, label = line.strip().split('\\t')\n",
        "            cleaned_sentence = re.sub('[^ㄱ-ㅎ|ㅏ-ㅣ|가-힣]+', ' ', sentence).strip()\n",
        "            if cleaned_sentence:\n",
        "                sentences.append(cleaned_sentence) \n",
        "                labels.append(label)\n",
        "\n",
        "        return sentences, labels\n",
        "\n",
        "train_sentence, train_label = load_data(os.path.join(base_dir, 'ratings_train.txt'))\n",
        "test_sentence, test_label = load_data(os.path.join(base_dir, 'ratings_test.txt'))\n",
        "\n",
        "train_sentence[:10]"
      ],
      "execution_count": 4,
      "outputs": [
        {
          "output_type": "execute_result",
          "data": {
            "text/plain": [
              "['아 더빙 진짜 짜증나네요 목소리',\n",
              " '흠 포스터보고 초딩영화줄 오버연기조차 가볍지 않구나',\n",
              " '너무재밓었다그래서보는것을추천한다',\n",
              " '교도소 이야기구먼 솔직히 재미는 없다 평점 조정',\n",
              " '사이몬페그의 익살스런 연기가 돋보였던 영화 스파이더맨에서 늙어보이기만 했던 커스틴 던스트가 너무나도 이뻐보였다',\n",
              " '막 걸음마 뗀 세부터 초등학교 학년생인 살용영화 ㅋㅋㅋ 별반개도 아까움',\n",
              " '원작의 긴장감을 제대로 살려내지못했다',\n",
              " '별 반개도 아깝다 욕나온다 이응경 길용우 연기생활이몇년인지 정말 발로해도 그것보단 낫겟다 납치 감금만반복반복 이드라마는 가족도없다 연기못하는사람만모엿네',\n",
              " '액션이 없는데도 재미 있는 몇안되는 영화',\n",
              " '왜케 평점이 낮은건데 꽤 볼만한데 헐리우드식 화려함에만 너무 길들여져 있나']"
            ]
          },
          "metadata": {
            "tags": []
          },
          "execution_count": 4
        }
      ]
    },
    {
      "cell_type": "markdown",
      "metadata": {
        "id": "KMQ3fw2CDwUa"
      },
      "source": [
        "### Tokenization (형태소분석 및 조사는 따로 저장 - Stop Words 로 쓸 생각)"
      ]
    },
    {
      "cell_type": "code",
      "metadata": {
        "id": "_LdaHREqAKbe"
      },
      "source": [
        "from konlpy.tag import Okt\n",
        "\n",
        "def tokenize(sentence):\n",
        "    \"\"\"\n",
        "    형태소로 분리 및 조사는 따로 list 만들어서 리턴\n",
        "    \"\"\"\n",
        "    tokenizer = Okt()\n",
        "    morphs_pos = tokenizer.pos(sentence)\n",
        "    tokens = []\n",
        "    stop_words = []\n",
        "    for mp in morphs_pos:\n",
        "        if mp[1] == 'Josa':\n",
        "            stop_words.append(mp[0])\n",
        "        tokens.append(mp[0])\n",
        "    return tokens, stop_words\n",
        "\n",
        "tokenized_train_sentence, train_stop_words = [tokenize(sentence) for sentence in train_sentence]\n",
        "tokenized_test_sentence, test_stop_words = [tokenize(sentence) for sentence in test_sentence]\n",
        "\n",
        "tokenized_train_sentence[:10]"
      ],
      "execution_count": null,
      "outputs": []
    },
    {
      "cell_type": "code",
      "metadata": {
        "id": "w-ql0pq6B5kF"
      },
      "source": [
        ""
      ],
      "execution_count": null,
      "outputs": []
    }
  ]
}