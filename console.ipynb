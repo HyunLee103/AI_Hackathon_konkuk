{
 "metadata": {
  "language_info": {
   "codemirror_mode": {
    "name": "ipython",
    "version": 3
   },
   "file_extension": ".py",
   "mimetype": "text/x-python",
   "name": "python",
   "nbconvert_exporter": "python",
   "pygments_lexer": "ipython3",
   "version": "3.8.5-final"
  },
  "orig_nbformat": 2,
  "kernelspec": {
   "name": "Python 3.8.5 64-bit ('venv')",
   "display_name": "Python 3.8.5 64-bit ('venv')",
   "metadata": {
    "interpreter": {
     "hash": "c9d1ef56ba3a89973ce19e2cab0eb87bb40f101444c8f564e59e14fa8aeba183"
    }
   }
  }
 },
 "nbformat": 4,
 "nbformat_minor": 2,
 "cells": [
  {
   "cell_type": "code",
   "execution_count": 23,
   "metadata": {},
   "outputs": [
    {
     "output_type": "execute_result",
     "data": {
      "text/plain": [
       "10000"
      ]
     },
     "metadata": {},
     "execution_count": 23
    }
   ],
   "source": [
    "import joblib\n",
    "import os\n",
    "\n",
    "# token: list\n",
    "# label: pd.Series\n",
    "\n",
    "base_dir = 'data'\n",
    "\n",
    "train_token = joblib.load(os.path.join(base_dir, 'train_tokens.pickle'))\n",
    "train_label = joblib.load(os.path.join(base_dir, 'train_label.pickle'))\n",
    "\n",
    "test_token = joblib.load(os.path.join(base_dir, 'test.pickle'))\n",
    "test_label = joblib.load(os.path.join(base_dir, 'test_label.pickle'))\n",
    "\n",
    "len(train_token)"
   ]
  },
  {
   "cell_type": "code",
   "execution_count": 24,
   "metadata": {},
   "outputs": [],
   "source": [
    "from gensim.models import Word2Vec\n",
    "\n",
    "embedding_dim = 128\n",
    "\n",
    "word2vec_model = Word2Vec(train_token + test_token, size=embedding_dim, min_count=1, sg=1)\n",
    "word2vec_model.save('model/word2vec_model')"
   ]
  },
  {
   "cell_type": "code",
   "execution_count": 25,
   "metadata": {},
   "outputs": [],
   "source": [
    "import numpy as np\n",
    "\n",
    "def build_matrix(tokens_list, word_table, embedding_dim):\n",
    "    size = len(tokens_list)\n",
    "    matrix = np.zeros((size, embedding_dim))\n",
    "    for i, tokens in enumerate(tokens_list):\n",
    "        vectorized_tokens = np.array([word_table[token] for token in tokens if token in word_table])\n",
    "        matrix[i] = vectorized_tokens.mean(0)\n",
    "    return np.nan_to_num(matrix)\n",
    "\n",
    "train_x = build_matrix(train_token, word2vec_model, embedding_dim)\n",
    "test_x = build_matrix(test_token, word2vec_model, embedding_dim)"
   ]
  },
  {
   "cell_type": "code",
   "execution_count": 26,
   "metadata": {},
   "outputs": [],
   "source": [
    "# 진짜 간단하게 만들어보기\n",
    "from sklearn.naive_bayes import MultinomialNB, GaussianNB\n",
    "from sklearn.neighbors import KDTree, KNeighborsClassifier\n",
    "from sklearn.tree import DecisionTreeClassifier\n",
    "from sklearn.svm import SVC, LinearSVC\n",
    "\n",
    "cfs = [\n",
    "    GaussianNB(),\n",
    "    DecisionTreeClassifier(criterion='entropy'),\n",
    "    # KNeighborsClassifier(n_neighbors=2)\n",
    "]\n",
    "\n",
    "for cf in cfs:\n",
    "    cf.fit(train_x, train_label)"
   ]
  },
  {
   "cell_type": "code",
   "execution_count": 27,
   "metadata": {},
   "outputs": [
    {
     "output_type": "stream",
     "name": "stdout",
     "text": [
      "GaussianNB() 0.7742946070752894\nDecisionTreeClassifier(criterion='entropy') 0.6760990296397258\n"
     ]
    }
   ],
   "source": [
    "from sklearn.metrics import accuracy_score\n",
    "\n",
    "for cf in cfs:\n",
    "    predictions = cf.predict(test_x)\n",
    "    acc = accuracy_score(test_label, predictions)\n",
    "    print(cf, acc)"
   ]
  },
  {
   "cell_type": "code",
   "execution_count": 32,
   "metadata": {},
   "outputs": [
    {
     "output_type": "execute_result",
     "data": {
      "text/plain": [
       "SVC()"
      ]
     },
     "metadata": {},
     "execution_count": 32
    }
   ],
   "source": [
    "from sklearn.svm import SVC, LinearSVC\n",
    "\n",
    "cf = SVC()\n",
    "cf.fit(train_x, train_label)"
   ]
  },
  {
   "cell_type": "code",
   "execution_count": 33,
   "metadata": {},
   "outputs": [
    {
     "output_type": "stream",
     "name": "stdout",
     "text": [
      "SVC() 0.7871310291514942\n"
     ]
    }
   ],
   "source": [
    "predictions = cf.predict(test_x)\n",
    "acc = accuracy_score(test_label, predictions)\n",
    "print(cf, acc)"
   ]
  },
  {
   "cell_type": "code",
   "execution_count": null,
   "metadata": {},
   "outputs": [],
   "source": []
  }
 ]
}