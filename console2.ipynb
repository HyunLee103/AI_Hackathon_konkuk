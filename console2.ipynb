{
 "metadata": {
  "language_info": {
   "codemirror_mode": {
    "name": "ipython",
    "version": 3
   },
   "file_extension": ".py",
   "mimetype": "text/x-python",
   "name": "python",
   "nbconvert_exporter": "python",
   "pygments_lexer": "ipython3",
   "version": "3.8.5-final"
  },
  "orig_nbformat": 2,
  "kernelspec": {
   "name": "Python 3.8.5 64-bit ('venv')",
   "display_name": "Python 3.8.5 64-bit ('venv')",
   "metadata": {
    "interpreter": {
     "hash": "c9d1ef56ba3a89973ce19e2cab0eb87bb40f101444c8f564e59e14fa8aeba183"
    }
   }
  }
 },
 "nbformat": 4,
 "nbformat_minor": 2,
 "cells": [
  {
   "cell_type": "code",
   "execution_count": 15,
   "metadata": {},
   "outputs": [
    {
     "output_type": "stream",
     "name": "stdout",
     "text": [
      "145791\n145791\n48995\n48995\n"
     ]
    }
   ],
   "source": [
    "import os\n",
    "import joblib\n",
    "\n",
    "\n",
    "def load_data(base_dir):\n",
    "    train_tokens = joblib.load(os.path.join(base_dir, 'train_tokens.pickle'))\n",
    "    train_labels = joblib.load(os.path.join(base_dir, 'train_label.pickle'))\n",
    "\n",
    "    test_tokens = joblib.load(os.path.join(base_dir, 'test_tokens.pickle'))\n",
    "    test_labels = joblib.load(os.path.join(base_dir, 'test_label.pickle'))\n",
    "\n",
    "    return train_tokens, list(train_labels), test_tokens, list(test_labels)\n",
    "\n",
    "train_tokens, train_labels, test_tokens, test_labels = load_data('data')\n",
    "print(len(train_tokens))\n",
    "print(len(train_labels))\n",
    "print(len(test_tokens))\n",
    "print(len(test_labels))"
   ]
  },
  {
   "cell_type": "code",
   "execution_count": null,
   "metadata": {},
   "outputs": [],
   "source": []
  }
 ]
}