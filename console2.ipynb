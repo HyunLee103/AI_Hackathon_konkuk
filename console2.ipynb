{
 "metadata": {
  "language_info": {
   "codemirror_mode": {
    "name": "ipython",
    "version": 3
   },
   "file_extension": ".py",
   "mimetype": "text/x-python",
   "name": "python",
   "nbconvert_exporter": "python",
   "pygments_lexer": "ipython3",
   "version": "3.8.5-final"
  },
  "orig_nbformat": 2,
  "kernelspec": {
   "name": "Python 3.8.5 64-bit ('venv')",
   "display_name": "Python 3.8.5 64-bit ('venv')",
   "metadata": {
    "interpreter": {
     "hash": "c9d1ef56ba3a89973ce19e2cab0eb87bb40f101444c8f564e59e14fa8aeba183"
    }
   }
  }
 },
 "nbformat": 4,
 "nbformat_minor": 2,
 "cells": [
  {
   "cell_type": "code",
   "execution_count": 7,
   "metadata": {},
   "outputs": [
    {
     "output_type": "execute_result",
     "data": {
      "text/plain": [
       "0    0\n",
       "1    1\n",
       "2    0\n",
       "3    0\n",
       "4    1\n",
       "Name: label, dtype: int64"
      ]
     },
     "metadata": {},
     "execution_count": 7
    }
   ],
   "source": [
    "import joblib\n",
    "import os\n",
    "\n",
    "# token: list\n",
    "# label: pd.Series\n",
    "\n",
    "base_dir = 'data'\n",
    "\n",
    "# list(list(str))\n",
    "tokens = joblib.load(os.path.join(base_dir, 'total_tokens.pickle'))\n",
    "\n",
    "# list(int)\n",
    "labels = list(joblib.load(os.path.join(base_dir, 'total_label.pickle')))\n",
    "\n",
    "labels.head()"
   ]
  },
  {
   "cell_type": "code",
   "execution_count": null,
   "metadata": {},
   "outputs": [],
   "source": []
  }
 ]
}