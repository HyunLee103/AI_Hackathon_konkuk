{
 "metadata": {
  "language_info": {
   "codemirror_mode": {
    "name": "ipython",
    "version": 3
   },
   "file_extension": ".py",
   "mimetype": "text/x-python",
   "name": "python",
   "nbconvert_exporter": "python",
   "pygments_lexer": "ipython3",
   "version": "3.8.5-final"
  },
  "orig_nbformat": 2,
  "kernelspec": {
   "name": "Python 3.8.5 64-bit",
   "display_name": "Python 3.8.5 64-bit",
   "metadata": {
    "interpreter": {
     "hash": "2db524e06e9f5f4ffedc911c917cb75e12dbc923643829bf417064a77eb14d37"
    }
   }
  }
 },
 "nbformat": 4,
 "nbformat_minor": 2,
 "cells": [
  {
   "cell_type": "code",
   "execution_count": 11,
   "metadata": {},
   "outputs": [
    {
     "output_type": "stream",
     "name": "stderr",
     "text": [
      "100%|██████████| 146182/146182 [00:00<00:00, 384603.69it/s]\n",
      "100%|██████████| 49157/49157 [00:00<00:00, 390047.32it/s]\n"
     ]
    }
   ],
   "source": [
    "import pickle\n",
    "from tqdm import tqdm\n",
    "\n",
    "with open('kaiRate_train_moong_150000ordered.pickle', 'rb') as f:\n",
    "    kai_top_words = pickle.load(f) # 단 한줄씩 읽어옴\n",
    "\n",
    "with open('train_moong.pickle', 'rb') as f:\n",
    "    train_x = pickle.load(f) # 단 한줄씩 읽어옴\n",
    "xx = []\n",
    "for s in tqdm(train_x):\n",
    "    ss = \"\"\n",
    "    for w in s:\n",
    "        ss += (w + \" \")\n",
    "    xx.append(ss)\n",
    "train_x = xx\n",
    "\n",
    "with open('train_label_moong.pickle', 'rb') as f:\n",
    "    train_y = pickle.load(f) # 단 한줄씩 읽어옴\n",
    "\n",
    "with open('test_moong.pickle', 'rb') as f:\n",
    "    test_x = pickle.load(f) # 단 한줄씩 읽어옴\n",
    "xx = []\n",
    "for s in tqdm(test_x):\n",
    "    ss = \"\"\n",
    "    for w in s:\n",
    "        ss += (w + \" \")\n",
    "    xx.append(ss)\n",
    "test_x = xx\n",
    "\n",
    "with open('test_label_moong.pickle', 'rb') as f:\n",
    "    test_y = pickle.load(f) # 단 한줄씩 읽어옴"
   ]
  },
  {
   "cell_type": "code",
   "execution_count": 12,
   "metadata": {},
   "outputs": [
    {
     "output_type": "execute_result",
     "data": {
      "text/plain": [
       "       words     word_kai\n",
       "최고        최고  3874.491618\n",
       "쓰레기      쓰레기  2371.094808\n",
       "최악        최악  1934.198953\n",
       "감동        감동  1611.697222\n",
       "뭐          뭐  1492.519813\n",
       "...      ...          ...\n",
       "성현        성현     0.000024\n",
       "영화마니아  영화마니아     0.000024\n",
       "비슷할까    비슷할까     0.000024\n",
       "썼네요      썼네요     0.000024\n",
       "멜로        멜로     0.000003\n",
       "\n",
       "[101188 rows x 2 columns]"
      ],
      "text/html": "<div>\n<style scoped>\n    .dataframe tbody tr th:only-of-type {\n        vertical-align: middle;\n    }\n\n    .dataframe tbody tr th {\n        vertical-align: top;\n    }\n\n    .dataframe thead th {\n        text-align: right;\n    }\n</style>\n<table border=\"1\" class=\"dataframe\">\n  <thead>\n    <tr style=\"text-align: right;\">\n      <th></th>\n      <th>words</th>\n      <th>word_kai</th>\n    </tr>\n  </thead>\n  <tbody>\n    <tr>\n      <th>최고</th>\n      <td>최고</td>\n      <td>3874.491618</td>\n    </tr>\n    <tr>\n      <th>쓰레기</th>\n      <td>쓰레기</td>\n      <td>2371.094808</td>\n    </tr>\n    <tr>\n      <th>최악</th>\n      <td>최악</td>\n      <td>1934.198953</td>\n    </tr>\n    <tr>\n      <th>감동</th>\n      <td>감동</td>\n      <td>1611.697222</td>\n    </tr>\n    <tr>\n      <th>뭐</th>\n      <td>뭐</td>\n      <td>1492.519813</td>\n    </tr>\n    <tr>\n      <th>...</th>\n      <td>...</td>\n      <td>...</td>\n    </tr>\n    <tr>\n      <th>성현</th>\n      <td>성현</td>\n      <td>0.000024</td>\n    </tr>\n    <tr>\n      <th>영화마니아</th>\n      <td>영화마니아</td>\n      <td>0.000024</td>\n    </tr>\n    <tr>\n      <th>비슷할까</th>\n      <td>비슷할까</td>\n      <td>0.000024</td>\n    </tr>\n    <tr>\n      <th>썼네요</th>\n      <td>썼네요</td>\n      <td>0.000024</td>\n    </tr>\n    <tr>\n      <th>멜로</th>\n      <td>멜로</td>\n      <td>0.000003</td>\n    </tr>\n  </tbody>\n</table>\n<p>101188 rows × 2 columns</p>\n</div>"
     },
     "metadata": {},
     "execution_count": 12
    }
   ],
   "source": [
    "kai_top_words"
   ]
  },
  {
   "cell_type": "code",
   "execution_count": 13,
   "metadata": {},
   "outputs": [],
   "source": [
    "from sklearn.feature_extraction.text import CountVectorizer\n",
    "from sklearn.naive_bayes import MultinomialNB\n",
    "from sklearn.metrics import accuracy_score\n",
    "# @param n : 카이제곱 통계량기준 내림차순으로 정렬된 단어사전의 상위 n개\n",
    "# @return  : 해당 단어사전을 기준으로 testdata(5만개)를 CountVectorize한 것을 Multinomial NB로 돌렸을 때의 정확도 \n",
    "def get_accuracy_by_chi2_MultinomialNB(n):\n",
    "    \n",
    "    vectorizer = CountVectorizer()\n",
    "    # fitted with top n chiwords\n",
    "    v = vectorizer.fit(kai_top_words[\"words\"][:n])\n",
    "\n",
    "    #vectorize...!\n",
    "    v_train = v.transform(train_x)\n",
    "    v_test = v.transform(test_x)\n",
    "\n",
    "    # create clf\n",
    "    classifier = MultinomialNB()\n",
    "    classifier.fit(v_train, train_y)\n",
    "    pred = classifier.predict(v_test).tolist()\n",
    "\n",
    "    return (accuracy_score(test_y, pred))"
   ]
  },
  {
   "cell_type": "code",
   "execution_count": 14,
   "metadata": {},
   "outputs": [
    {
     "output_type": "stream",
     "name": "stdout",
     "text": [
      "nSize = 100 : 0.6817543788270236\n",
      "nSize = 1000 : 0.7838151229733303\n",
      "nSize = 5000 : 0.8221413023577517\n",
      "nSize = 10000 : 0.8315397603596639\n",
      "nSize = 15000 : 0.8344081209186891\n",
      "nSize = 20000 : 0.8351811542608377\n",
      "nSize = 30000 : 0.8380902007852391\n",
      "nSize = 50000 : 0.8392904367638383\n",
      "nSize = 70000 : 0.8403482718636206\n",
      "nSize = 101188 : 0.8410399332750168\n"
     ]
    }
   ],
   "source": [
    "Top_N_sizes = [100, 1000, 5000, 10000, 15000, 20000, 30000, 50000, 70000, len(kai_top_words)]\n",
    "\n",
    "for n in Top_N_sizes:\n",
    "    accuracy = get_accuracy_by_chi2_MultinomialNB(n)\n",
    "    print(\"nSize = \" + str(n) + \" : \" + str(accuracy))"
   ]
  }
 ]
}