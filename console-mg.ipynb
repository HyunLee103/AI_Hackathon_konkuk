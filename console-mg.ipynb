{
 "cells": [
  {
   "cell_type": "code",
   "execution_count": 2,
   "metadata": {},
   "outputs": [],
   "source": [
    "import konlpy\n",
    "from sklearn.feature_extraction.text import TfidfVectorizer\n",
    "from sklearn.feature_extraction.text import CountVectorizer\n",
    "from sklearn.naive_bayes import MultinomialNB\n",
    "from sklearn.metrics import accuracy_score"
   ]
  },
  {
   "cell_type": "code",
   "execution_count": 2,
   "metadata": {},
   "outputs": [],
   "source": [
    "import pickle\n",
    "with open('train_moong.pickle', 'rb') as f:\n",
    "    train_x = pickle.load(f) # 단 한줄씩 읽어옴\n",
    "with open('train_label_moong.pickle', 'rb') as f:\n",
    "    train_y  = pickle.load(f) # 단 한줄씩 읽어옴"
   ]
  },
  {
   "cell_type": "code",
   "execution_count": 4,
   "metadata": {},
   "outputs": [
    {
     "data": {
      "text/plain": [
       "146182"
      ]
     },
     "execution_count": 4,
     "metadata": {},
     "output_type": "execute_result"
    }
   ],
   "source": [
    "# 긍정 / 혹은 부정 문장리스트\n",
    "def wordCount(data, word):\n",
    "    cnt = 0\n",
    "    for sentence in data:\n",
    "        if word in sentence:\n",
    "            cnt += 1\n",
    "    return cnt\n",
    "\n",
    "# data : 긍/ 부정 문서 리스트 \n",
    "# data[0] : 부정 문서 싹다.\n",
    "# data[1] : 긍정 문서 싹다. \n",
    "# w : 단어 \n",
    "# c : 긍정, 부정\n",
    "# return 카이제곱 통계량\n",
    "def getKai(datas, word, isPositive):\n",
    "    A = wordCount(datas[isPositive], word)\n",
    "    B = wordCount(datas[(isPositive+1)%2], w)\n",
    "    C = len(datas[isPositive]) - A\n",
    "    D = len(datas[(isPositive+1)%2]) - B\n",
    "    # 분모가 0이면 0을 리턴함.\n",
    "    if ((A+B)*(A+C)*(B+D)*(C+D)) == 0:\n",
    "        return 0\n",
    "    return ((A+B+C+D)*((A*D-B*C)*(A*D-B*C))) / ((A+B)*(A+C)*(B+D)*(C+D))"
   ]
  },
  {
   "cell_type": "code",
   "execution_count": null,
   "metadata": {},
   "outputs": [],
   "source": [
    "train_x = list(train_x)\n",
    "train_y = list(train_y)"
   ]
  },
  {
   "cell_type": "code",
   "execution_count": null,
   "metadata": {},
   "outputs": [],
   "source": [
    "# words 는 현이님이 주신 피클의 모든 단어들\n",
    "words = []\n",
    "for s in train_x:\n",
    "    for w in s:\n",
    "        words.append(w)\n",
    "# 중복 제거\n",
    "words = list(set(words))\n",
    "# 긍/부정 문서로 나눈다.\n",
    "data, dataP, dataN = [], [], []\n",
    "for i in range(len(train_x)):\n",
    "    if(train_y[i] == 1):\n",
    "        dataP.append(train_x[i])\n",
    "    else:\n",
    "        dataN.append(train_x[i])\n",
    "data =[dataN, dataP]\n",
    "print(data)"
   ]
  },
  {
   "cell_type": "code",
   "execution_count": null,
   "metadata": {},
   "outputs": [],
   "source": [
    "kai_dict = []\n",
    "for w in tqdm(words):\n",
    "    kai_dict.append(getKai(data, w, 0))\n",
    "kaiRate = pd.DataFrame()\n",
    "kaiRate['words'] = words\n",
    "kaiRate.index = words\n",
    "kaiRate['word_kai'] = kai_dict\n",
    "# kaiRate은 카이제곱 정렬 상위 단어 \n",
    "kaiRate = kaiRate.sort_values(by=['word_kai'],ascending=False)"
   ]
  },
  {
   "cell_type": "code",
   "execution_count": null,
   "metadata": {},
   "outputs": [],
   "source": [
    "const_kai   = 1000   #구할 카이제곱상위 단어의 개수\n",
    "realkaiRate = kaiRate[:const_kai]\n",
    "realkaiRate = list(realkaiRate[\"words\"])"
   ]
  },
  {
   "cell_type": "code",
   "execution_count": null,
   "metadata": {},
   "outputs": [],
   "source": [
    "v1 = CountVectorizer()\n",
    "v2 = CountVectorizer()\n",
    "# 기본단어\n",
    "cntVectorizer_words = v1.fit(words)\n",
    "# 카이제곱 상위 단어\n",
    "cntVectorizer_kai = v2.fit(realkaiRate)"
   ]
  },
  {
   "cell_type": "code",
   "execution_count": null,
   "metadata": {},
   "outputs": [],
   "source": [
    "from sklearn.model_selection import train_test_split\n",
    "\n",
    "with open('X_sample.pickle', 'rb') as f:\n",
    "    sample_x = pickle.load(f) # 단 한줄씩 읽어옴\n",
    "    \n",
    "with open('y_sample.pickle', 'rb') as f:\n",
    "    sample_y  = pickle.load(f) # 단 한줄씩 읽어옴"
   ]
  },
  {
   "cell_type": "code",
   "execution_count": null,
   "metadata": {},
   "outputs": [],
   "source": [
    "# 바로 sample_x를 countVectorizer에 박으려고했으나 리스트라서 안된다고함.\n",
    "# 스트링으로 바꿔줆\n",
    "# sample_x = [['안녕', '나는', '문근'], ['너는', '안녕'], ....]\n",
    "# xx = [\"안녕 나는 문근\", \"너는 안녕\", \"ㅎㅇ ㅎㅇ\" .... ]\n",
    "xx = []\n",
    "for s in sample_x:\n",
    "    ss = \"\"\n",
    "    for w in s:\n",
    "        ss += (w + \" \")\n",
    "    xx.append(ss)\n",
    "sample_x = xx"
   ]
  },
  {
   "cell_type": "code",
   "execution_count": null,
   "metadata": {},
   "outputs": [],
   "source": [
    "# 희소행렬 두개를 합쳐벌임\n",
    "def merge_sparse(a, b):\n",
    "    return sparse.csr_matrix(np.hstack((a.toarray(), b.toarray())))\n",
    "\n",
    "X_train,X_test,y_train,y_test=train_test_split(sample_x, sample_y,random_state=2020)\n",
    "# 기본단어 feature\n",
    "w = cntVectorizer_words.transform(X_train)\n",
    "# 카이제곱 상위 단어 feature\n",
    "k = cntVectorizer_kai.transform(X_train)\n",
    "X_train = merge_sparse(w, k) \n",
    "\n",
    "\n",
    "# 기본단어 features\n",
    "w = cntVectorizer_words.transform(X_test)\n",
    "# 카이제곱 상위 단어 features\n",
    "k = cntVectorizer_kai.transform(X_test)\n",
    "X_test = merge_sparse(w, k)"
   ]
  },
  {
   "cell_type": "code",
   "execution_count": null,
   "metadata": {},
   "outputs": [],
   "source": [
    "from sklearn.naive_bayes import MultinomialNB\n",
    "from sklearn.metrics import accuracy_score\n",
    "\n",
    "classifier = MultinomialNB()\n",
    "\n",
    "classifier.fit(X_train, y_train)\n",
    "\n",
    "pred = classifier.predict(X_test).tolist()\n",
    "\n",
    "print('Accuracy1: %.10f' % accuracy_score(y_test, pred))"
   ]
  }
 ],
 "metadata": {
  "kernelspec": {
   "display_name": "Python 3",
   "language": "python",
   "name": "python3"
  },
  "language_info": {
   "codemirror_mode": {
    "name": "ipython",
    "version": 3
   },
   "file_extension": ".py",
   "mimetype": "text/x-python",
   "name": "python",
   "nbconvert_exporter": "python",
   "pygments_lexer": "ipython3",
   "version": "3.7.3"
  }
 },
 "nbformat": 4,
 "nbformat_minor": 2
}