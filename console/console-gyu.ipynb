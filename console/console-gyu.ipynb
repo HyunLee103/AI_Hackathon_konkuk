{
 "metadata": {
  "language_info": {
   "codemirror_mode": {
    "name": "ipython",
    "version": 3
   },
   "file_extension": ".py",
   "mimetype": "text/x-python",
   "name": "python",
   "nbconvert_exporter": "python",
   "pygments_lexer": "ipython3",
   "version": "3.8.5-final"
  },
  "orig_nbformat": 2,
  "kernelspec": {
   "name": "Python 3.8.5 64-bit ('venv')",
   "display_name": "Python 3.8.5 64-bit ('venv')",
   "metadata": {
    "interpreter": {
     "hash": "c9d1ef56ba3a89973ce19e2cab0eb87bb40f101444c8f564e59e14fa8aeba183"
    }
   }
  }
 },
 "nbformat": 4,
 "nbformat_minor": 2,
 "cells": [
  {
   "cell_type": "code",
   "execution_count": 4,
   "metadata": {},
   "outputs": [],
   "source": [
    "import re\n",
    "\n",
    "def load_data(path):\n",
    "    sentences = []\n",
    "    labels = []\n",
    "\n",
    "    with open(path, 'r', encoding='utf-8') as fp:\n",
    "        lines = fp.readlines()\n",
    "        for line in lines:\n",
    "            _, sentence, label = line.strip().split('\\t')\n",
    "            cleaned_sentence = re.sub('[^ㄱ-ㅎ|ㅏ-ㅣ|가-힣]+', ' ', sentence).strip()\n",
    "            if cleaned_sentence:\n",
    "                sentences.append(cleaned_sentence) \n",
    "                labels.append(label)\n",
    "\n",
    "        return sentences, labels"
   ]
  },
  {
   "cell_type": "code",
   "execution_count": 5,
   "metadata": {},
   "outputs": [
    {
     "output_type": "execute_result",
     "data": {
      "text/plain": [
       "['아 더빙 진짜 짜증나네요 목소리',\n",
       " '흠 포스터보고 초딩영화줄 오버연기조차 가볍지 않구나',\n",
       " '너무재밓었다그래서보는것을추천한다',\n",
       " '교도소 이야기구먼 솔직히 재미는 없다 평점 조정',\n",
       " '사이몬페그의 익살스런 연기가 돋보였던 영화 스파이더맨에서 늙어보이기만 했던 커스틴 던스트가 너무나도 이뻐보였다',\n",
       " '막 걸음마 뗀 세부터 초등학교 학년생인 살용영화 ㅋㅋㅋ 별반개도 아까움',\n",
       " '원작의 긴장감을 제대로 살려내지못했다',\n",
       " '별 반개도 아깝다 욕나온다 이응경 길용우 연기생활이몇년인지 정말 발로해도 그것보단 낫겟다 납치 감금만반복반복 이드라마는 가족도없다 연기못하는사람만모엿네',\n",
       " '액션이 없는데도 재미 있는 몇안되는 영화',\n",
       " '왜케 평점이 낮은건데 꽤 볼만한데 헐리우드식 화려함에만 너무 길들여져 있나']"
      ]
     },
     "metadata": {},
     "execution_count": 5
    }
   ],
   "source": [
    "train_sentence, train_label = load_data('data/ratings_train.txt')\n",
    "test_sentence, test_label = load_data('data/ratings_test.txt')\n",
    "\n",
    "train_sentence[:10]"
   ]
  },
  {
   "cell_type": "code",
   "execution_count": null,
   "metadata": {},
   "outputs": [],
   "source": [
    "from konlpy.tag import Okt\n",
    "\n",
    "def tokenize(sentence):\n",
    "    \"\"\"\n",
    "    형태소로 분리 및 조사는 따로 list 만들어서 리턴\n",
    "    \"\"\"\n",
    "    tokenizer = Okt()\n",
    "    morphs_pos = tokenizer.pos(sentence)\n",
    "    tokens = []\n",
    "    stop_words = []\n",
    "    for mp in morphs_pos:\n",
    "        if mp[1] == 'Josa':\n",
    "            stop_words.append(mp[0])\n",
    "        tokens.append(mp[0])\n",
    "    return tokens, stop_words\n",
    "\n",
    "tokenized_train_sentence, train_stop_words = [tokenize(sentence) for sentence in train_sentence]\n",
    "tokenized_test_sentence, test_stop_words = [tokenize(sentence) for sentence in test_sentence]\n",
    "\n",
    "tokenized_train_sentence[:10]"
   ]
  },
  {
   "cell_type": "code",
   "execution_count": null,
   "metadata": {},
   "outputs": [],
   "source": [
    "# save results\n",
    "import pandas as pd\n",
    "\n",
    "df = pd.DataFrame()\n"
   ]
  },
  {
   "cell_type": "code",
   "execution_count": null,
   "metadata": {},
   "outputs": [],
   "source": [
    "from keras.preprocessing.text import Tokenizer\n",
    "\n",
    "tokenizer = Tokenizer(num_words=1000)\n",
    "tokenizer.fit_on_texts(train_sentence_cleaned)\n",
    "\n",
    "# 문자열을 인덱스의 리스트로 변환\n",
    "sequences = tokenizer.texts_to_matrix(train_sentence_cleaned, mode='count').tolist()\n",
    "\n",
    "# 계산된 단어 인덱스를 dictionary 형태로 확인\n",
    "word_index = tokenizer.word_index\n",
    "print('Found %s unique tokens.' % len(word_index))"
   ]
  },
  {
   "cell_type": "code",
   "execution_count": null,
   "metadata": {},
   "outputs": [],
   "source": [
    "from sklearn.svm import SVC\n",
    "\n",
    "train_x = sequences\n",
    "train_y = train_label\n",
    "\n",
    "svm = SVC(kernel='rbf')\n",
    "svm.fit(train_x, train_y)"
   ]
  },
  {
   "cell_type": "code",
   "execution_count": null,
   "metadata": {},
   "outputs": [],
   "source": [
    "from sklearn.metrics import accuracy_score\n",
    "\n",
    "prediction = svm.predict(test_x)\n",
    "print('Accuracy: %.2f' % accuracy_score(test_y, prediction))"
   ]
  },
  {
   "cell_type": "code",
   "execution_count": 15,
   "metadata": {},
   "outputs": [
    {
     "output_type": "execute_result",
     "data": {
      "text/plain": [
       "CountVectorizer()"
      ]
     },
     "metadata": {},
     "execution_count": 15
    }
   ],
   "source": [
    "import joblib\n",
    "\n",
    "v = joblib.load('data/count_vectorizer.pickle')\n",
    "v"
   ]
  },
  {
   "cell_type": "code",
   "execution_count": 16,
   "metadata": {},
   "outputs": [
    {
     "output_type": "execute_result",
     "data": {
      "text/plain": [
       "[('최고', 85873), ('쓰레기', 55918), ('최악', 85944), ('감동', 4542), ('아깝다', 56482)]"
      ]
     },
     "metadata": {},
     "execution_count": 16
    }
   ],
   "source": [
    "list(v.vocabulary_.items())[:5]"
   ]
  },
  {
   "cell_type": "code",
   "execution_count": 17,
   "metadata": {},
   "outputs": [
    {
     "output_type": "execute_result",
     "data": {
      "text/plain": [
       "(48995, 98670)"
      ]
     },
     "metadata": {},
     "execution_count": 17
    }
   ],
   "source": [
    "test_tokens = joblib.load('data/test_tokens.pickle')\n",
    "test_labels = list(joblib.load('data/test_label.pickle'))\n",
    "\n",
    "test_x = v.transform([' '.join(tokens) for tokens in test_tokens]).toarray()\n",
    "test_x.shape"
   ]
  },
  {
   "cell_type": "code",
   "execution_count": 18,
   "metadata": {},
   "outputs": [
    {
     "output_type": "execute_result",
     "data": {
      "text/plain": [
       "48995"
      ]
     },
     "metadata": {},
     "execution_count": 18
    }
   ],
   "source": [
    "model = joblib.load('data/model-mg.pickle')\n",
    "predictions = model.predict(test_x)\n",
    "len(predictions)"
   ]
  },
  {
   "cell_type": "code",
   "execution_count": 19,
   "metadata": {},
   "outputs": [
    {
     "output_type": "execute_result",
     "data": {
      "text/plain": [
       "0.7948770282681906"
      ]
     },
     "metadata": {},
     "execution_count": 19
    }
   ],
   "source": [
    "from sklearn.metrics import accuracy_score\n",
    "\n",
    "acc = accuracy_score(test_labels, predictions)\n",
    "acc"
   ]
  },
  {
   "cell_type": "code",
   "execution_count": 21,
   "metadata": {},
   "outputs": [
    {
     "output_type": "execute_result",
     "data": {
      "text/plain": [
       "(194543, 5)"
      ]
     },
     "metadata": {},
     "execution_count": 21
    }
   ],
   "source": [
    "f = joblib.load('data/total_feature_scaled.pickle')\n",
    "f.shape"
   ]
  },
  {
   "cell_type": "code",
   "execution_count": 1,
   "metadata": {},
   "outputs": [
    {
     "output_type": "execute_result",
     "data": {
      "text/plain": [
       "[('아', 'Exclamation'),\n",
       " ('집', 'Noun'),\n",
       " ('에', 'Josa'),\n",
       " ('가고', 'Verb'),\n",
       " ('싶다', 'Verb')]"
      ]
     },
     "metadata": {},
     "execution_count": 1
    }
   ],
   "source": [
    "from konlpy.tag import Okt\n",
    "\n",
    "o = Okt()\n",
    "o.pos('아 집에 가고 싶다')"
   ]
  },
  {
   "cell_type": "code",
   "execution_count": 1,
   "metadata": {},
   "outputs": [
    {
     "output_type": "execute_result",
     "data": {
      "text/plain": [
       "array([[[1, 2],\n",
       "        [3, 4]],\n",
       "\n",
       "       [[1, 3],\n",
       "        [5, 7]]])"
      ]
     },
     "metadata": {},
     "execution_count": 1
    }
   ],
   "source": [
    "import numpy as np\n",
    "\n",
    "a = np.array([\n",
    "    [[1, 2], [3, 4]],\n",
    "    [[1, 3], [5, 7]],\n",
    "])\n",
    "a"
   ]
  },
  {
   "cell_type": "code",
   "execution_count": 3,
   "metadata": {},
   "outputs": [
    {
     "output_type": "execute_result",
     "data": {
      "text/plain": [
       "array([[2., 3.],\n",
       "       [3., 5.]])"
      ]
     },
     "metadata": {},
     "execution_count": 3
    }
   ],
   "source": [
    "a.mean(axis=1)"
   ]
  },
  {
   "cell_type": "code",
   "execution_count": 4,
   "metadata": {},
   "outputs": [
    {
     "output_type": "execute_result",
     "data": {
      "text/plain": [
       "array([[1. , 2.5],\n",
       "       [4. , 5.5]])"
      ]
     },
     "metadata": {},
     "execution_count": 4
    }
   ],
   "source": [
    "a.mean(axis=0)"
   ]
  },
  {
   "cell_type": "code",
   "execution_count": null,
   "metadata": {},
   "outputs": [],
   "source": []
  }
 ]
}