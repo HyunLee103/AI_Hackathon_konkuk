{
  "nbformat": 4,
  "nbformat_minor": 0,
  "metadata": {
    "orig_nbformat": 2,
    "kernelspec": {
      "name": "python3",
      "display_name": "Python 3"
    },
    "colab": {
      "name": "console.ipynb",
      "provenance": [],
      "include_colab_link": true
    }
  },
  "cells": [
    {
      "cell_type": "markdown",
      "metadata": {
        "id": "view-in-github",
        "colab_type": "text"
      },
      "source": [
        "<a href=\"https://colab.research.google.com/github/HyunLee103/AI_Hackathon_konkuk/blob/master/word2vec-gyu.ipynb\" target=\"_parent\"><img src=\"https://colab.research.google.com/assets/colab-badge.svg\" alt=\"Open In Colab\"/></a>"
      ]
    },
    {
      "cell_type": "code",
      "metadata": {
        "id": "nmiKA5RujM-m",
        "outputId": "dce54d11-d2a9-49ba-9563-39fd90c3d06e"
      },
      "source": [
        "import joblib\n",
        "import os\n",
        "\n",
        "# token: list\n",
        "# label: pd.Series\n",
        "\n",
        "base_dir = 'data'\n",
        "\n",
        "train_token = joblib.load(os.path.join(base_dir, 'train_tokens.pickle'))\n",
        "train_label = joblib.load(os.path.join(base_dir, 'train_label.pickle'))\n",
        "\n",
        "test_token = joblib.load(os.path.join(base_dir, 'test.pickle'))\n",
        "test_label = joblib.load(os.path.join(base_dir, 'test_label.pickle'))\n",
        "\n",
        "tfidf_vocab = joblib.load(os.path.join('data', 'top_10000.pickle'))\n",
        "\n",
        "print(train_token[:3])\n",
        "print(test_token[:3])\n",
        "\n",
        "print(tfidf_vocab[:10])\n",
        "print(len(tfidf_vocab))"
      ],
      "execution_count": null,
      "outputs": [
        {
          "output_type": "stream",
          "text": [
            "[['더빙', '진짜', '짜증나다', '목소리'], ['흠', '포스터', '보고', '초딩', '영화', '줄', '오버', '연기', '가볍다'], ['무재', '밓었', '다그', '래서', '추천']]\n",
            "[['굳', 'ㅋ'], ['GDNTOPCLASSINTHECLUB'], ['뭐', '이', '평점', '들', '나쁘진', '않지만', '점', '짜', '리', '더', '더욱', '아니잖아']]\n",
            "['영화', '없다', '있다', '좋다', '너무', '재밌다', '정말', '같다', '진짜', '아니다']\n",
            "10000\n"
          ],
          "name": "stdout"
        }
      ]
    },
    {
      "cell_type": "code",
      "metadata": {
        "id": "DiFBfMQvjM-q"
      },
      "source": [
        "from gensim.models import Word2Vec\n",
        "\n",
        "embedding_dim = 128\n",
        "\n",
        "word2vec_model = Word2Vec([tfidf_vocab], size=embedding_dim, min_count=1, sg=1)\n",
        "word2vec_model.save('model/word2vec_model')"
      ],
      "execution_count": null,
      "outputs": []
    },
    {
      "cell_type": "code",
      "metadata": {
        "id": "uyfTjN7kjM-s"
      },
      "source": [
        "import numpy as np\n",
        "\n",
        "def build_matrix(tokens_list, word_table, embedding_dim):\n",
        "    size = len(tokens_list)\n",
        "    matrix = np.zeros((size, embedding_dim))\n",
        "    for i, tokens in enumerate(tokens_list):\n",
        "        vectorized_tokens = np.array([\n",
        "            word_table[token] if token in word_table else np.zeros(embedding_dim)\n",
        "            for token in tokens \n",
        "        ])\n",
        "        matrix[i] = vectorized_tokens.mean(0)\n",
        "    return np.nan_to_num(matrix)\n",
        "\n",
        "train_x = build_matrix(train_token, word2vec_model, embedding_dim)\n",
        "test_x = build_matrix(test_token, word2vec_model, embedding_dim)"
      ],
      "execution_count": null,
      "outputs": []
    },
    {
      "cell_type": "code",
      "metadata": {
        "id": "oo7ONxPUjM-v"
      },
      "source": [
        "# 진짜 간단하게 만들어보기\n",
        "from sklearn.naive_bayes import MultinomialNB, GaussianNB\n",
        "from sklearn.neighbors import KDTree, KNeighborsClassifier\n",
        "from sklearn.tree import DecisionTreeClassifier\n",
        "\n",
        "cfs = [\n",
        "    GaussianNB(),\n",
        "    DecisionTreeClassifier(criterion='entropy'),\n",
        "    # KNeighborsClassifier(n_neighbors=2)\n",
        "]\n",
        "\n",
        "for cf in cfs:\n",
        "    cf.fit(train_x, train_label)"
      ],
      "execution_count": null,
      "outputs": []
    },
    {
      "cell_type": "code",
      "metadata": {
        "id": "08UC9ydtjM-x",
        "outputId": "aafa8c42-cd67-4a80-b804-90e8afce91ef"
      },
      "source": [
        "from sklearn.metrics import accuracy_score\n",
        "\n",
        "for cf in cfs:\n",
        "    predictions = cf.predict(test_x)\n",
        "    acc = accuracy_score(test_label, predictions)\n",
        "    print(cf, acc)"
      ],
      "execution_count": null,
      "outputs": [
        {
          "output_type": "stream",
          "text": [
            "GaussianNB() 0.5174441076550644\n",
            "DecisionTreeClassifier(criterion='entropy') 0.5574790975852879\n"
          ],
          "name": "stdout"
        }
      ]
    },
    {
      "cell_type": "code",
      "metadata": {
        "id": "5o8vpX2MjM-z"
      },
      "source": [
        ""
      ],
      "execution_count": null,
      "outputs": []
    }
  ]
}