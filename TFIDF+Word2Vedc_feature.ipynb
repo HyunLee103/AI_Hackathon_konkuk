{
 "cells": [
  {
   "cell_type": "code",
   "execution_count": 11,
   "metadata": {},
   "outputs": [],
   "source": [
    "from konlpy.tag import Okt\n",
    "from sklearn.feature_extraction.text import CountVectorizer\n",
    "from sklearn.feature_extraction.text import TfidfVectorizer\n",
    "from sklearn.naive_bayes import MultinomialNB\n",
    "from sklearn.metrics import accuracy_score\n",
    "import numpy as np\n",
    "from tqdm import tqdm"
   ]
  },
  {
   "cell_type": "code",
   "execution_count": 2,
   "metadata": {},
   "outputs": [],
   "source": [
    "# 전처리 거친 데이터셋 불러오기\n",
    "import pickle \n",
    "with open('train_data.pickle', 'rb') as fr:\n",
    "    train_data = pickle.load(fr)\n",
    "with open('test_data.pickle', 'rb') as fr:\n",
    "    test_data = pickle.load(fr)"
   ]
  },
  {
   "cell_type": "code",
   "execution_count": 16,
   "metadata": {},
   "outputs": [],
   "source": [
    "train = train_data['doc_cleaned'].values\n",
    "test = test_data['doc_cleaned'].values\n",
    "\n",
    "y_train = train_data['label'].values\n",
    "y_test = test_data['label'].values"
   ]
  },
  {
   "cell_type": "code",
   "execution_count": 12,
   "metadata": {},
   "outputs": [],
   "source": [
    "# TFIDF 주요 단어 추출 \n",
    "X_train = np.array(train)\n",
    "train_pos = X_train[y_train == 1]\n",
    "train_neg = X_train[y_train == 0]\n",
    "\n",
    "tfidfv = TfidfVectorizer(preprocessor=' '.join, max_features=30000).fit(train_pos)\n",
    "score = {key : value for key, value in zip(sorted(tfidfv.vocabulary_, key = lambda x : tfidfv.vocabulary_[x]), tfidfv.transform(train_pos).toarray().sum(axis=0))}\n",
    "top_pos = sorted(score, key = lambda x : score[x],reverse=True)[:2000]\n",
    "\n",
    "tfidfv = TfidfVectorizer(preprocessor=' '.join, max_features=30000).fit(train_neg)\n",
    "score = {key : value for key, value in zip(sorted(tfidfv.vocabulary_, key = lambda x : tfidfv.vocabulary_[x]), tfidfv.transform(train_neg).toarray().sum(axis=0))}\n",
    "top_neg = sorted(score, key = lambda x : score[x],reverse=True)[:2000]\n",
    "\n",
    "top = top_pos + top_neg"
   ]
  },
  {
   "cell_type": "code",
   "execution_count": null,
   "metadata": {},
   "outputs": [],
   "source": [
    "# Word2Vec으로 전체 corpus 학습\n",
    "from gensim.models import Word2Vec\n",
    "model = Word2Vec(train, size=128, window=3, min_count=1, iter=100, sg=1)\n",
    "model.wv.vectors.shape"
   ]
  },
  {
   "cell_type": "code",
   "execution_count": 13,
   "metadata": {},
   "outputs": [
    {
     "name": "stderr",
     "output_type": "stream",
     "text": [
      "100%|█████████████████████████████████████████████████████████████████████████████| 4000/4000 [00:08<00:00, 448.99it/s]\n"
     ]
    }
   ],
   "source": [
    "# 유사 단어 단어 사전에 추가\n",
    "sim = []\n",
    "for pw in tqdm(top):\n",
    "    sim.extend([k for k,v in model.wv.most_similar(pw)])\n",
    "top.extend(sim)"
   ]
  },
  {
   "cell_type": "code",
   "execution_count": 14,
   "metadata": {},
   "outputs": [
    {
     "name": "stdout",
     "output_type": "stream",
     "text": [
      "(145791, 22514) (48995, 22514)\n"
     ]
    },
    {
     "data": {
      "text/plain": [
       "MultinomialNB()"
      ]
     },
     "execution_count": 14,
     "metadata": {},
     "output_type": "execute_result"
    }
   ],
   "source": [
    "# Countervectorize \n",
    "train = list(map(' '.join, train))\n",
    "test = list(map(' '.join, test))\n",
    "vectorizer = CountVectorizer()\n",
    "vectorizer.fit(top)\n",
    "X_train = vectorizer.transform(train).toarray()\n",
    "X_test = vectorizer.transform(test).toarray()\n",
    "print(X_train.shape, X_test.shape)\n",
    "\n",
    "# MultinomialNB 학습\n",
    "nbc = MultinomialNB()\n",
    "nbc.fit(X_train, y_train)"
   ]
  },
  {
   "cell_type": "code",
   "execution_count": 15,
   "metadata": {},
   "outputs": [
    {
     "name": "stdout",
     "output_type": "stream",
     "text": [
      "테스트 정확도: 0.811\n"
     ]
    }
   ],
   "source": [
    "y_pred = nbc.predict(X_test)\n",
    "print(\"테스트 정확도: {:.3f}\".format(accuracy_score(y_test, y_pred)))"
   ]
  }
 ],
 "metadata": {
  "kernelspec": {
   "display_name": "Python 3",
   "language": "python",
   "name": "python3"
  },
  "language_info": {
   "codemirror_mode": {
    "name": "ipython",
    "version": 3
   },
   "file_extension": ".py",
   "mimetype": "text/x-python",
   "name": "python",
   "nbconvert_exporter": "python",
   "pygments_lexer": "ipython3",
   "version": "3.7.6"
  }
 },
 "nbformat": 4,
 "nbformat_minor": 4
}
