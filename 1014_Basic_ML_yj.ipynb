{
  "nbformat": 4,
  "nbformat_minor": 0,
  "metadata": {
    "colab": {
      "name": "1014_Basic_ML_yj.ipynb",
      "provenance": [],
      "collapsed_sections": []
    },
    "kernelspec": {
      "name": "python3",
      "display_name": "Python 3"
    }
  },
  "cells": [
    {
      "cell_type": "markdown",
      "metadata": {
        "id": "3sLwNpPkwEUr"
      },
      "source": [
        "# NSMC 감성분석 data set\n",
        "- data load 및 generation\n",
        "- 간단한 EDA 와 ml 모델 돌리기\n",
        "- Feature Engineering 시에는 다양한 노트북 참고 예정  \n",
        "- Updated 1014\n"
      ]
    },
    {
      "cell_type": "code",
      "metadata": {
        "id": "05jUkiZDupu-",
        "outputId": "ec30630e-1ee5-4611-ec70-cde73807aaab",
        "colab": {
          "base_uri": "https://localhost:8080/",
          "height": 34
        }
      },
      "source": [
        "cd /content/drive/My Drive/AI_assignment/hackathon_1"
      ],
      "execution_count": 5,
      "outputs": [
        {
          "output_type": "stream",
          "text": [
            "/content/drive/My Drive/AI_assignment/hackathon_1\n"
          ],
          "name": "stdout"
        }
      ]
    },
    {
      "cell_type": "code",
      "metadata": {
        "id": "ndPBOX4lw_SA"
      },
      "source": [
        "# ready\n",
        "import pandas as pd\n",
        "import numpy as np\n",
        "\n",
        "import sys\n",
        "np.set_printoptions(threshold=sys.maxsize)\n",
        "import os\n",
        "import tqdm\n",
        "import warnings\n",
        "warnings.filterwarnings(action='ignore')\n",
        "import pickle\n",
        "import joblib\n",
        "\n",
        "from IPython.display import display\n",
        "pd.options.display.max_rows = 999\n",
        "pd.options.display.max_columns = 999\n",
        "\n",
        "import re\n",
        "\n",
        "# visualization\n",
        "from matplotlib import pyplot as plt\n",
        "plt.style.use('seaborn')\n",
        "import seaborn as sns\n",
        "%matplotlib inline"
      ],
      "execution_count": 6,
      "outputs": []
    },
    {
      "cell_type": "code",
      "metadata": {
        "id": "yxK_aOP33Uym"
      },
      "source": [
        "# Font\n",
        "import matplotlib.font_manager as fm\n",
        "fm._rebuild()\n",
        "plt.rc('font', family='NanumGothic')\n",
        "plt.rc('axes', unicode_minus=False)"
      ],
      "execution_count": 7,
      "outputs": []
    },
    {
      "cell_type": "code",
      "metadata": {
        "id": "KfvVBj3IalQ-"
      },
      "source": [
        "# kras\n",
        "from tensorflow.python.keras.preprocessing.text import Tokenizer\n",
        "from tensorflow.python.keras.preprocessing.sequence import pad_sequences\n",
        "\n",
        "# sklearn\n",
        "from sklearn.model_selection import train_test_split,KFold\n",
        "#from sklearn.linear_model import LogisticRegression\n",
        "from sklearn.svm import SVC\n",
        "from sklearn.tree import DecisionTreeClassifier\n",
        "from sklearn.neighbors import KNeighborsClassifier\n",
        "from sklearn.naive_bayes import GaussianNB\n",
        "from sklearn.metrics import accuracy_score\n",
        "from sklearn.feature_extraction.text import CountVectorizer\n",
        "from sklearn.preprocessing import MultiLabelBinarizer"
      ],
      "execution_count": 25,
      "outputs": []
    },
    {
      "cell_type": "code",
      "metadata": {
        "id": "nJV46kelbB89"
      },
      "source": [
        "from gensim.models import Word2Vec"
      ],
      "execution_count": 48,
      "outputs": []
    },
    {
      "cell_type": "markdown",
      "metadata": {
        "id": "Tw_xda8Uwg3f"
      },
      "source": [
        "### 1) Load Data\n",
        "데이터 형식  \n",
        "ID \\t document \\t label (0:neg / 1:pos) 로 공지 "
      ]
    },
    {
      "cell_type": "code",
      "metadata": {
        "id": "AQHUEBFMP3Cg"
      },
      "source": [
        "# token\n",
        "train_token = joblib.load(os.path.join('data','train_moong.pickle'))\n",
        "train_label = joblib.load(os.path.join('data','train_label_moong.pickle'))\n",
        "\n",
        "test_token = joblib.load(os.path.join('data','test_moong.pickle'))\n",
        "test_label = joblib.load(os.path.join('data','test_label_moong.pickle'))\n",
        "\n",
        "# tfidf Feature\n",
        "tfidf_vocab = joblib.load(os.path.join('data','vocab_list.pickle'))\n"
      ],
      "execution_count": 9,
      "outputs": []
    },
    {
      "cell_type": "code",
      "metadata": {
        "id": "6PtgaXOtRKd0",
        "outputId": "18879384-08a5-4b18-936b-7187937997f4",
        "colab": {
          "base_uri": "https://localhost:8080/",
          "height": 136
        }
      },
      "source": [
        "train_token[:2], train_label[:2], len(train_token), len(test_token)"
      ],
      "execution_count": 15,
      "outputs": [
        {
          "output_type": "execute_result",
          "data": {
            "text/plain": [
              "([['아', '더빙', '진짜', '짜증나네요', '목소리'],\n",
              "  ['흠', '포스터', '보고', '초딩', '영화', '줄', '오버', '연기', '가볍지', '않구나']],\n",
              " 0    0\n",
              " 1    1\n",
              " Name: label, dtype: int64,\n",
              " 146182,\n",
              " 49157)"
            ]
          },
          "metadata": {
            "tags": []
          },
          "execution_count": 15
        }
      ]
    },
    {
      "cell_type": "code",
      "metadata": {
        "id": "leHF4Qo8Rm8f",
        "outputId": "1bbda1f9-fec6-475b-b766-db5f38ba663f",
        "colab": {
          "base_uri": "https://localhost:8080/",
          "height": 34
        }
      },
      "source": [
        "tfidf_vocab[:2], len(tfidf_vocab)"
      ],
      "execution_count": 17,
      "outputs": [
        {
          "output_type": "execute_result",
          "data": {
            "text/plain": [
              "(['만들어', '구성'], 494)"
            ]
          },
          "metadata": {
            "tags": []
          },
          "execution_count": 17
        }
      ]
    },
    {
      "cell_type": "markdown",
      "metadata": {
        "id": "aeSadYXVRaW1"
      },
      "source": [
        "train 데이터 갯수 : 146182  \n",
        "test 데이터 갯수 : 49157  \n",
        "tfidf 단어 갯수 : 494\n"
      ]
    },
    {
      "cell_type": "markdown",
      "metadata": {
        "id": "JN0ezL0fR840"
      },
      "source": [
        "### 2) Feature Engineering\n"
      ]
    },
    {
      "cell_type": "markdown",
      "metadata": {
        "id": "93et1waraf1-"
      },
      "source": [
        "* tfidf feature 494"
      ]
    },
    {
      "cell_type": "code",
      "metadata": {
        "id": "ju7CJlFndIpZ"
      },
      "source": [
        "# tfidf voca 들로 피쳐 생성해주는 함수\n",
        "def make_tfidf_mat(word_token_list, vocab, num_vocab):\n",
        "    # Countervector\n",
        "    count_vector = CountVectorizer()\n",
        "    count_vector.fit(vocab)     # 단어사전에 fitting\n",
        "    \n",
        "    tfidf_mat = np.zeros([len(word_token_list),num_vocab])\n",
        "    \n",
        "    for i,t in enumerate(word_token_list):\n",
        "        t_vector = count_vector.transform([''.join(t)]).toarray()\n",
        "        tfidf_mat[i] = t_vector\n",
        "\n",
        "    return tfidf_mat"
      ],
      "execution_count": 52,
      "outputs": []
    },
    {
      "cell_type": "code",
      "metadata": {
        "id": "EyiipH-xdvRB",
        "outputId": "016a7c2a-6da6-468e-db41-b35fea0088cb",
        "colab": {
          "base_uri": "https://localhost:8080/",
          "height": 34
        }
      },
      "source": [
        "train_tfidf_mat = make_tfidf_mat(train_token, tfidf_vocab, 494)\n",
        "train_tfidf_mat.shape"
      ],
      "execution_count": 54,
      "outputs": [
        {
          "output_type": "execute_result",
          "data": {
            "text/plain": [
              "(146182, 494)"
            ]
          },
          "metadata": {
            "tags": []
          },
          "execution_count": 54
        }
      ]
    },
    {
      "cell_type": "code",
      "metadata": {
        "id": "PIQWgWEEeQtH",
        "outputId": "d0f2049c-f378-4257-9c42-e85ddc4cb506",
        "colab": {
          "base_uri": "https://localhost:8080/",
          "height": 34
        }
      },
      "source": [
        "test_tfidf_mat = make_tfidf_mat(test_token, tfidf_vocab, 494)\n",
        "test_tfidf_mat.shape"
      ],
      "execution_count": 55,
      "outputs": [
        {
          "output_type": "execute_result",
          "data": {
            "text/plain": [
              "(49157, 494)"
            ]
          },
          "metadata": {
            "tags": []
          },
          "execution_count": 55
        }
      ]
    },
    {
      "cell_type": "markdown",
      "metadata": {
        "id": "HmCWCph6W4Ny"
      },
      "source": [
        "* word2vec 160  \n",
        "* def 짜야함"
      ]
    },
    {
      "cell_type": "code",
      "metadata": {
        "id": "gfmjPjysW3hn"
      },
      "source": [
        "# Word2Vec embedding # skip-gram\n",
        "emb_model = Word2Vec(train_token, size=160, window = 3, min_count=1, iter=100, sg=1)\n",
        "\n",
        "# save\n",
        "emb_model.save('word2vec_train_146182.model')\n",
        "\n",
        "# # load model\n",
        "# emb_model = joblib.load(os.path.join('word2vec_train_1014.model'))"
      ],
      "execution_count": 49,
      "outputs": []
    },
    {
      "cell_type": "code",
      "metadata": {
        "id": "KMjLOI1n15Pn"
      },
      "source": [
        "# word dict\n",
        "word_table = {\n",
        "    word : vec for word, vec in zip(\n",
        "        emb_model.wv.index2word,\n",
        "        np.array(emb_model.wv.syn0)\n",
        "    )\n",
        "}\n",
        "\n",
        "emb_mat = np.zeros((len(train_token),160))\n",
        "\n",
        "for i,morphs in enumerate(train_token):\n",
        "    vector = np.array([word_table[morph] for morph in morphs])\n",
        "    final_vector = np.mean(vector,axis=0)\n",
        "    emb_mat[i] = final_vector"
      ],
      "execution_count": 57,
      "outputs": []
    },
    {
      "cell_type": "code",
      "metadata": {
        "id": "WCd-HS-1E80h",
        "outputId": "88dd8f4f-9663-4ad4-8845-e15d6829accd",
        "colab": {
          "base_uri": "https://localhost:8080/",
          "height": 34
        }
      },
      "source": [
        "emb_mat.shape"
      ],
      "execution_count": 58,
      "outputs": [
        {
          "output_type": "execute_result",
          "data": {
            "text/plain": [
              "(146182, 160)"
            ]
          },
          "metadata": {
            "tags": []
          },
          "execution_count": 58
        }
      ]
    },
    {
      "cell_type": "markdown",
      "metadata": {
        "id": "wEl2BUCqdOEn"
      },
      "source": [
        "* Save Features"
      ]
    },
    {
      "cell_type": "code",
      "metadata": {
        "id": "-OyhLIgtYxTS"
      },
      "source": [
        "# tfidf mat\n",
        "with open('train_tfidf_mat_146182.pickle', 'wb') as f:\n",
        "    pickle.dump(tfidf_mat, f, pickle.HIGHEST_PROTOCOL)\n",
        "\n",
        "# embedding mat\n",
        "with open('train_emb_mat_146182.pickle', 'wb') as f:\n",
        "    pickle.dump(emb_mat, f, pickle.HIGHEST_PROTOCOL)"
      ],
      "execution_count": 60,
      "outputs": []
    },
    {
      "cell_type": "markdown",
      "metadata": {
        "id": "zOFxOEALd5jl"
      },
      "source": [
        "* Data Generation"
      ]
    },
    {
      "cell_type": "code",
      "metadata": {
        "id": "9X8jiqxzcVm3",
        "outputId": "1368a1e0-ac49-49c0-a12a-21379ab2416e",
        "colab": {
          "base_uri": "https://localhost:8080/",
          "height": 34
        }
      },
      "source": [
        "final_mat = np.concatenate((tfidf_mat, emb_mat), axis = 1)\n",
        "final_mat.shape, np.isnan(final_mat).sum()"
      ],
      "execution_count": 62,
      "outputs": [
        {
          "output_type": "execute_result",
          "data": {
            "text/plain": [
              "((146182, 654), 26240)"
            ]
          },
          "metadata": {
            "tags": []
          },
          "execution_count": 62
        }
      ]
    },
    {
      "cell_type": "code",
      "metadata": {
        "id": "kudEle3KYCUk"
      },
      "source": [
        "# setting\n",
        "X = np.nan_to_num(final_mat.copy(), copy=False)\n",
        "X_emb = np.nan_to_num(emb_mat.copy(), copy=False)\n",
        "X_tfidf = np.nan_to_num(tfidf_mat.copy(), copy=False)\n",
        "\n",
        "y = train_label"
      ],
      "execution_count": 69,
      "outputs": []
    },
    {
      "cell_type": "markdown",
      "metadata": {
        "id": "WnJ6G9ksRtUz"
      },
      "source": [
        "### 3) Modeling"
      ]
    },
    {
      "cell_type": "code",
      "metadata": {
        "id": "3XjNBK7mQ1mQ"
      },
      "source": [
        "# ml model\n",
        "knn = KNeighborsClassifier()\n",
        "dt = DecisionTreeClassifier()\n",
        "nb = GaussianNB()\n",
        "svm = SVC()"
      ],
      "execution_count": 64,
      "outputs": []
    },
    {
      "cell_type": "code",
      "metadata": {
        "id": "yyjJvCWDIcoI"
      },
      "source": [
        "def model_eval(model,X,y,save_model_name):\n",
        "    \n",
        "    X_train,X_test,y_train,y_test = train_test_split(X,y,test_size=0.3, random_state=42)\n",
        "    \n",
        "    clf = model.fit(X_train,y_train)\n",
        "    y_pred = clf.predict(X_test)\n",
        "    acc = accuracy_score(y_test,y_pred)\n",
        "    print(model,' accuracy : ', acc)\n",
        "\n",
        "    # save model\n",
        "    with open('train_' + save_model_name + '.pickle', 'wb') as f:\n",
        "        pickle.dump(model, f, pickle.HIGHEST_PROTOCOL)\n",
        "    \n",
        "    return acc"
      ],
      "execution_count": 65,
      "outputs": []
    },
    {
      "cell_type": "code",
      "metadata": {
        "id": "U6bkz6XkQ1oZ",
        "outputId": "6dc90a93-2273-46d2-96bf-6f68631b54cb",
        "colab": {
          "base_uri": "https://localhost:8080/",
          "height": 119
        }
      },
      "source": [
        "# NB\n",
        "print(model_eval(nb,X,y,'nb'))\n",
        "\n",
        "print(model_eval(nb,X_emb,y,'nb'))\n",
        "\n",
        "print(model_eval(nb,X_tfidf,y,'nb'))"
      ],
      "execution_count": 70,
      "outputs": [
        {
          "output_type": "stream",
          "text": [
            "GaussianNB(priors=None, var_smoothing=1e-09)  accuracy :  0.5024056549994299\n",
            "0.5024056549994299\n",
            "GaussianNB(priors=None, var_smoothing=1e-09)  accuracy :  0.8129517728879261\n",
            "0.8129517728879261\n",
            "GaussianNB(priors=None, var_smoothing=1e-09)  accuracy :  0.5024056549994299\n",
            "0.5024056549994299\n"
          ],
          "name": "stdout"
        }
      ]
    },
    {
      "cell_type": "markdown",
      "metadata": {
        "id": "JzQRHmVrfe7s"
      },
      "source": [
        "tfidf 성능 구림"
      ]
    },
    {
      "cell_type": "code",
      "metadata": {
        "id": "Hl2egIa_NALn",
        "outputId": "53cdbb31-c0ff-4623-e836-f9e457609334",
        "colab": {
          "base_uri": "https://localhost:8080/",
          "height": 408
        }
      },
      "source": [
        "# dt\n",
        "%time print(model_eval(dt,X,y,'dt'))\n",
        "\n",
        "print(model_eval(dt,X_emb,y,'dt'))\n",
        "\n",
        "print(model_eval(dt,X_tfidf,y,'dt'))"
      ],
      "execution_count": 72,
      "outputs": [
        {
          "output_type": "stream",
          "text": [
            "DecisionTreeClassifier(ccp_alpha=0.0, class_weight=None, criterion='gini',\n",
            "                       max_depth=None, max_features=None, max_leaf_nodes=None,\n",
            "                       min_impurity_decrease=0.0, min_impurity_split=None,\n",
            "                       min_samples_leaf=1, min_samples_split=2,\n",
            "                       min_weight_fraction_leaf=0.0, presort='deprecated',\n",
            "                       random_state=None, splitter='best')  accuracy :  0.6820430965682363\n",
            "0.6820430965682363\n",
            "CPU times: user 34.7 s, sys: 13 ms, total: 34.7 s\n",
            "Wall time: 34.8 s\n",
            "DecisionTreeClassifier(ccp_alpha=0.0, class_weight=None, criterion='gini',\n",
            "                       max_depth=None, max_features=None, max_leaf_nodes=None,\n",
            "                       min_impurity_decrease=0.0, min_impurity_split=None,\n",
            "                       min_samples_leaf=1, min_samples_split=2,\n",
            "                       min_weight_fraction_leaf=0.0, presort='deprecated',\n",
            "                       random_state=None, splitter='best')  accuracy :  0.6804925322084141\n",
            "0.6804925322084141\n",
            "DecisionTreeClassifier(ccp_alpha=0.0, class_weight=None, criterion='gini',\n",
            "                       max_depth=None, max_features=None, max_leaf_nodes=None,\n",
            "                       min_impurity_decrease=0.0, min_impurity_split=None,\n",
            "                       min_samples_leaf=1, min_samples_split=2,\n",
            "                       min_weight_fraction_leaf=0.0, presort='deprecated',\n",
            "                       random_state=None, splitter='best')  accuracy :  0.5024284574164861\n",
            "0.5024284574164861\n"
          ],
          "name": "stdout"
        }
      ]
    },
    {
      "cell_type": "code",
      "metadata": {
        "id": "Hq2qgrdJNAN0"
      },
      "source": [
        "# knn\n",
        "%time print(model_eval(knn,X,y,'knn'))\n",
        "\n",
        "print(model_eval(knn,X_emb,y,'knn'))\n",
        "\n",
        "print(model_eval(knn,X_tfidf,y,'knn'))"
      ],
      "execution_count": null,
      "outputs": []
    },
    {
      "cell_type": "code",
      "metadata": {
        "id": "G223IQ5FQnia"
      },
      "source": [
        "# svm\n",
        "%time print(model_eval(svm,X,y,'svm'))\n",
        "\n",
        "print(model_eval(svm,X_emb,y,'svm'))\n",
        "\n",
        "print(model_eval(svm,X_tfidf,y,'svm'))"
      ],
      "execution_count": null,
      "outputs": []
    }
  ]
}