{
 "cells": [
  {
   "cell_type": "code",
   "execution_count": 26,
   "metadata": {},
   "outputs": [],
   "source": [
    "# Train 데이터    \n",
    "with open('train_moong.pickle', 'rb') as fr:\n",
    "    train =pickle.load(fr)\n",
    "with open('train_label_moong.pickle', 'rb') as fr:\n",
    "    y_train =pickle.load(fr)\n",
    "\n",
    "# Test 데이터    \n",
    "with open('test_moong.pickle', 'rb') as fr:\n",
    "    test =pickle.load(fr)\n",
    "with open('test_label_moong.pickle', 'rb') as fr:\n",
    "    y_test =pickle.load(fr)"
   ]
  },
  {
   "cell_type": "code",
   "execution_count": 27,
   "metadata": {},
   "outputs": [],
   "source": [
    "import pandas as pd\n",
    "import numpy as np\n",
    "%matplotlib inline\n",
    "import matplotlib.pyplot as plt\n",
    "import re\n",
    "import urllib.request\n",
    "from konlpy.tag import Okt\n",
    "\n",
    "from sklearn.feature_extraction.text import TfidfVectorizer\n",
    "from sklearn.neighbors import KNeighborsClassifier\n",
    "from sklearn.naive_bayes import MultinomialNB\n",
    "from sklearn.tree import DecisionTreeClassifier\n",
    "from sklearn.svm import SVC\n",
    "from sklearn.ensemble import RandomForestClassifier\n",
    "\n",
    "from sklearn.ensemble import BaggingClassifier\n",
    "\n",
    "from sklearn.metrics import accuracy_score\n",
    "\n",
    "from tensorflow.keras.preprocessing.text import Tokenizer\n",
    "from tensorflow.keras.preprocessing.sequence import pad_sequences\n",
    "\n",
    "import pickle \n",
    "\n",
    "import pandas as pd\n",
    "import numpy as np\n",
    "from tqdm import tqdm\n",
    "from sklearn.feature_extraction.text import CountVectorizer"
   ]
  },
  {
   "cell_type": "code",
   "execution_count": null,
   "metadata": {},
   "outputs": [],
   "source": [
    "# tfidf 상위 단어 구해서 사전 만들기\n",
    "\n",
    "X_train = np.array(train)\n",
    "\n",
    "tfidfv = TfidfVectorizer(preprocessor=' '.join, max_features=35000).fit(X_train)\n",
    "score = {key : value for key, value in zip(sorted(tfidfv.vocabulary_, key = lambda x : tfidfv.vocabulary_[x]), tfidfv.transform(X_train).toarray().sum(axis=0))}\n",
    "top = sorted(score, key = lambda x : score[x],reverse=True)[:30000]\n",
    "\n",
    "X_train = list(map(' '.join, train))\n",
    "X_test = list(map(' '.join, test))\n",
    "\n",
    "# Train set fit, transform\n",
    "from sklearn.feature_extraction.text import CountVectorizer\n",
    "vectorizer = CountVectorizer()\n",
    "vectorizer.fit(top)\n",
    "X_train = vectorizer.transform(X_train).toarray()\n",
    "\n",
    "# Test set transform\n",
    "X_test = vectorizer.transform(X_test).toarray()\n",
    "\n",
    "nbc = MultinomialNB()\n",
    "nbc.fit(X_train, y_train)\n",
    "y_pred = nbc.predict(X_test)\n",
    "print(\"테스트 정확도: {:.3f}\".format(accuracy_score(y_test, y_pred)))"
   ]
  },
  {
   "cell_type": "code",
   "execution_count": 15,
   "metadata": {},
   "outputs": [
    {
     "data": {
      "text/plain": [
       "(146182, 23912)"
      ]
     },
     "execution_count": 15,
     "metadata": {},
     "output_type": "execute_result"
    }
   ],
   "source": [
    "X_train.shape"
   ]
  },
  {
   "cell_type": "code",
   "execution_count": 163,
   "metadata": {},
   "outputs": [],
   "source": [
    "# train으로 w2v 학습시키기\n",
    "from gensim.models import Word2Vec\n",
    "model = Word2Vec(train, size=128, window=3, min_count=1, iter=100, sg=1)"
   ]
  },
  {
   "cell_type": "code",
   "execution_count": 298,
   "metadata": {},
   "outputs": [],
   "source": [
    "# 유사한 단어 2개 리턴\n",
    "def getSimilar(word):\n",
    "    return [k for k,v in model.wv.most_similar(word)"
   ]
  },
  {
   "cell_type": "code",
   "execution_count": 370,
   "metadata": {},
   "outputs": [],
   "source": [
    "words = top\n",
    "\n",
    "#유사 단어 단어 사전에 넣기\n",
    "sim = []\n",
    "for pw in tqdm(words):\n",
    "    sim.extend(getSimilar(pw))\n",
    "words.extend(sim)\n",
    "\n",
    "X_train = list(map(' '.join, train))\n",
    "X_test = list(map(' '.join, test))\n",
    "\n",
    "# Train set fit, transform\n",
    "from sklearn.feature_extraction.text import CountVectorizer\n",
    "vectorizer = CountVectorizer()\n",
    "vectorizer.fit(words)\n",
    "X_train = vectorizer.transform(X_train).toarray()\n",
    "\n",
    "# Test set transform\n",
    "X_test = vectorizer.transform(X_test).toarray()"
   ]
  },
  {
   "cell_type": "code",
   "execution_count": 371,
   "metadata": {},
   "outputs": [
    {
     "name": "stdout",
     "output_type": "stream",
     "text": [
      "(146182, 17089)\n",
      "(49157, 17089)\n"
     ]
    }
   ],
   "source": [
    "print(X_train.shape)\n",
    "print(X_test.shape)"
   ]
  },
  {
   "cell_type": "code",
   "execution_count": 372,
   "metadata": {},
   "outputs": [
    {
     "name": "stdout",
     "output_type": "stream",
     "text": [
      "테스트 정확도: 0.827\n"
     ]
    }
   ],
   "source": [
    "nbc = MultinomialNB()\n",
    "nbc.fit(X_train, y_train)\n",
    "y_pred = nbc.predict(X_test)\n",
    "print(\"테스트 정확도: {:.3f}\".format(accuracy_score(y_test, y_pred)))"
   ]
  },
  {
   "cell_type": "code",
   "execution_count": 366,
   "metadata": {},
   "outputs": [],
   "source": [
    "# 0.82\n",
    "x11 = X_train\n",
    "x12 = X_test\n",
    "\n",
    "# 0.806\n",
    "x21 = X_train\n",
    "x22 = X_test\n",
    "\n",
    "# 0.794\n",
    "x31 = X_train\n",
    "x32 = X_test\n",
    "\n",
    "# 0.824\n",
    "# tfidf 20000\n",
    "x41 = X_train\n",
    "x42 = X_test\n",
    "\n",
    "# 0.825\n",
    "# tfidf 24000\n",
    "x51 = X_train\n",
    "x52 = X_test\n",
    "\n",
    "# 0.823\n",
    "# tf + kai + sim\n",
    "x61 = X_train\n",
    "x62 = X_test\n",
    "\n",
    "# 0.827\n",
    "# tfidf 24000 / new2\n",
    "x71 = X_train\n",
    "x72 = X_test"
   ]
  },
  {
   "cell_type": "code",
   "execution_count": 332,
   "metadata": {},
   "outputs": [
    {
     "data": {
      "text/plain": [
       "(145791, 15739)"
      ]
     },
     "execution_count": 332,
     "metadata": {},
     "output_type": "execute_result"
    }
   ],
   "source": [
    "x51.shape"
   ]
  },
  {
   "cell_type": "code",
   "execution_count": 244,
   "metadata": {},
   "outputs": [
    {
     "data": {
      "text/plain": [
       "['X_train.sav']"
      ]
     },
     "execution_count": 244,
     "metadata": {},
     "output_type": "execute_result"
    }
   ],
   "source": [
    "joblib.dump(X_train,'X_train.sav')  "
   ]
  },
  {
   "cell_type": "code",
   "execution_count": 245,
   "metadata": {},
   "outputs": [
    {
     "data": {
      "text/plain": [
       "['X_test.sav']"
      ]
     },
     "execution_count": 245,
     "metadata": {},
     "output_type": "execute_result"
    }
   ],
   "source": [
    "joblib.dump(X_test,'X_test.sav')  "
   ]
  },
  {
   "cell_type": "code",
   "execution_count": 3,
   "metadata": {},
   "outputs": [],
   "source": [
    "# 10000개 sample 준비\n",
    "\n",
    "with open('X_sample.pickle', 'rb') as fr:\n",
    "    X_sample = pickle.load(fr)\n",
    "    \n",
    "with open('Y_sample.pickle', 'rb') as fr:\n",
    "    Y_sample = pickle.load(fr)"
   ]
  },
  {
   "cell_type": "code",
   "execution_count": 4,
   "metadata": {},
   "outputs": [],
   "source": [
    "# Sample 자르기 (train / test)\n",
    "from sklearn.model_selection import train_test_split\n",
    "X_train, X_test, y_train, y_test = train_test_split(X_sample,Y_sample,random_state=2020)"
   ]
  },
  {
   "cell_type": "code",
   "execution_count": null,
   "metadata": {},
   "outputs": [],
   "source": [
    "# 카이제곱 "
   ]
  },
  {
   "cell_type": "code",
   "execution_count": 8,
   "metadata": {},
   "outputs": [
    {
     "name": "stderr",
     "output_type": "stream",
     "text": [
      "100%|████████████████████████████████████████████████████████████████████████████| 40480/40480 [20:56<00:00, 32.22it/s]\n"
     ]
    },
    {
     "ename": "NameError",
     "evalue": "name 'kaiRatep' is not defined",
     "output_type": "error",
     "traceback": [
      "\u001b[1;31m---------------------------------------------------------------------------\u001b[0m",
      "\u001b[1;31mNameError\u001b[0m                                 Traceback (most recent call last)",
      "\u001b[1;32m<ipython-input-8-a7eb77f691c3>\u001b[0m in \u001b[0;36m<module>\u001b[1;34m\u001b[0m\n\u001b[0;32m     29\u001b[0m \u001b[1;33m\u001b[0m\u001b[0m\n\u001b[0;32m     30\u001b[0m \u001b[0mkaiRate\u001b[0m \u001b[1;33m=\u001b[0m \u001b[0mpd\u001b[0m\u001b[1;33m.\u001b[0m\u001b[0mDataFrame\u001b[0m\u001b[1;33m(\u001b[0m\u001b[1;33m)\u001b[0m\u001b[1;33m\u001b[0m\u001b[1;33m\u001b[0m\u001b[0m\n\u001b[1;32m---> 31\u001b[1;33m \u001b[0mkaiRatep\u001b[0m\u001b[1;33m[\u001b[0m\u001b[1;34m'words'\u001b[0m\u001b[1;33m]\u001b[0m \u001b[1;33m=\u001b[0m \u001b[0mwords\u001b[0m\u001b[1;33m\u001b[0m\u001b[1;33m\u001b[0m\u001b[0m\n\u001b[0m\u001b[0;32m     32\u001b[0m \u001b[0mkaiRate\u001b[0m\u001b[1;33m[\u001b[0m\u001b[1;34m'word_kai'\u001b[0m\u001b[1;33m]\u001b[0m \u001b[1;33m=\u001b[0m \u001b[0mkai_dict\u001b[0m\u001b[1;33m\u001b[0m\u001b[1;33m\u001b[0m\u001b[0m\n\u001b[0;32m     33\u001b[0m \u001b[1;33m\u001b[0m\u001b[0m\n",
      "\u001b[1;31mNameError\u001b[0m: name 'kaiRatep' is not defined"
     ]
    }
   ],
   "source": [
    "X_train = np.array(train)\n",
    "\n",
    "def wordCount(data, w):\n",
    "    cnt = 0;\n",
    "    for s in data:\n",
    "        if w in s:\n",
    "            cnt += 1\n",
    "    return cnt\n",
    "\n",
    "def getKai(data, w):\n",
    "    A = wordCount(data[0], w)\n",
    "    B = wordCount(data[1], w)\n",
    "    C = len(data[0]) - A\n",
    "    D = len(data[1]) - B\n",
    "    # 분모가 0이면 0을 리턴함.\n",
    "    if ((A+B)*(A+C)*(B+D)*(C+D)) == 0:\n",
    "        return 0\n",
    "    return ((A+B+C+D)*((A*D-B*C)*(A*D-B*C))) / ((A+B)*(A+C)*(B+D)*(C+D))\n",
    "\n",
    "import itertools\n",
    "words = list(itertools.chain.from_iterable(train))\n",
    "words = list(set(words))\n",
    "\n",
    "data = [X_train[y_train == 0].tolist(), X_train[y_train == 1].tolist()]\n",
    "\n",
    "kai_dict = []\n",
    "for w in tqdm(words):\n",
    "    kai_dict.append(getKai(data, w))\n",
    "\n",
    "    kaiRate = pd.DataFrame()\n",
    "kaiRate['words'] = words\n",
    "kaiRate['word_kai'] = kai_dict\n",
    "\n",
    "kaiRate = kaiRate.sort_values(by=['word_kai'],ascending=False)"
   ]
  },
  {
   "cell_type": "code",
   "execution_count": 49,
   "metadata": {},
   "outputs": [],
   "source": [
    "from gensim.models import Word2Vec\n",
    "model2 = Word2Vec(train, size=128, window=3, min_count=1, iter=100, sg=1)"
   ]
  },
  {
   "cell_type": "code",
   "execution_count": 82,
   "metadata": {},
   "outputs": [],
   "source": [
    "def getSimilar(word):\n",
    "    return [k for k,v in model2.wv.most_similar(word)[:2]]"
   ]
  },
  {
   "cell_type": "code",
   "execution_count": 25,
   "metadata": {},
   "outputs": [
    {
     "ename": "NameError",
     "evalue": "name 'kaiRate' is not defined",
     "output_type": "error",
     "traceback": [
      "\u001b[1;31m---------------------------------------------------------------------------\u001b[0m",
      "\u001b[1;31mNameError\u001b[0m                                 Traceback (most recent call last)",
      "\u001b[1;32m<ipython-input-25-3594c93f67c8>\u001b[0m in \u001b[0;36m<module>\u001b[1;34m\u001b[0m\n\u001b[1;32m----> 1\u001b[1;33m \u001b[0mtopkai\u001b[0m \u001b[1;33m=\u001b[0m \u001b[0mkaiRate\u001b[0m\u001b[1;33m[\u001b[0m\u001b[1;34m'words'\u001b[0m\u001b[1;33m]\u001b[0m\u001b[1;33m[\u001b[0m\u001b[1;33m:\u001b[0m\u001b[1;36m30000\u001b[0m\u001b[1;33m]\u001b[0m\u001b[1;33m.\u001b[0m\u001b[0mtolist\u001b[0m\u001b[1;33m(\u001b[0m\u001b[1;33m)\u001b[0m\u001b[1;33m\u001b[0m\u001b[1;33m\u001b[0m\u001b[0m\n\u001b[0m",
      "\u001b[1;31mNameError\u001b[0m: name 'kaiRate' is not defined"
     ]
    }
   ],
   "source": [
    "topkai = kaiRate['words'][:30000].tolist()"
   ]
  },
  {
   "cell_type": "code",
   "execution_count": 24,
   "metadata": {},
   "outputs": [
    {
     "ename": "NameError",
     "evalue": "name 'topkai' is not defined",
     "output_type": "error",
     "traceback": [
      "\u001b[1;31m---------------------------------------------------------------------------\u001b[0m",
      "\u001b[1;31mNameError\u001b[0m                                 Traceback (most recent call last)",
      "\u001b[1;32m<ipython-input-24-68d59ef4b4cc>\u001b[0m in \u001b[0;36m<module>\u001b[1;34m\u001b[0m\n\u001b[1;32m----> 1\u001b[1;33m \u001b[0mtopkai\u001b[0m\u001b[1;33m\u001b[0m\u001b[1;33m\u001b[0m\u001b[0m\n\u001b[0m",
      "\u001b[1;31mNameError\u001b[0m: name 'topkai' is not defined"
     ]
    }
   ],
   "source": [
    "topkai"
   ]
  },
  {
   "cell_type": "code",
   "execution_count": 83,
   "metadata": {},
   "outputs": [
    {
     "name": "stderr",
     "output_type": "stream",
     "text": [
      "100%|███████████████████████████████████████████████████████████████████████████| 13000/13000 [00:18<00:00, 705.51it/s]\n"
     ]
    }
   ],
   "source": [
    "kai = topkai\n",
    "\n",
    "sim = []\n",
    "for pw in tqdm(kai):\n",
    "    sim.extend(getSimilar(pw))\n",
    "kai.extend(sim)\n",
    "\n",
    "X_train = list(map(' '.join, train))\n",
    "X_test = list(map(' '.join, test))\n",
    "\n",
    "vectorizer = CountVectorizer()\n",
    "vectorizer.fit(kai)\n",
    "\n",
    "X_train = vectorizer.transform(X_train).toarray()\n",
    "X_test = vectorizer.transform(X_test).toarray()\n"
   ]
  },
  {
   "cell_type": "code",
   "execution_count": 84,
   "metadata": {},
   "outputs": [
    {
     "name": "stdout",
     "output_type": "stream",
     "text": [
      "(145791, 25096)\n",
      "(48995, 25096)\n"
     ]
    }
   ],
   "source": [
    "print(X_train.shape)\n",
    "print(X_test.shape)"
   ]
  },
  {
   "cell_type": "code",
   "execution_count": 112,
   "metadata": {},
   "outputs": [],
   "source": [
    "import joblib\n"
   ]
  },
  {
   "cell_type": "code",
   "execution_count": 113,
   "metadata": {},
   "outputs": [
    {
     "data": {
      "text/plain": [
       "['X_train.sav']"
      ]
     },
     "execution_count": 113,
     "metadata": {},
     "output_type": "execute_result"
    }
   ],
   "source": [
    "\n",
    "filename = 'X_train.sav'\n"
   ]
  },
  {
   "cell_type": "code",
   "execution_count": 141,
   "metadata": {},
   "outputs": [],
   "source": [
    "with open('sparse.pickle', 'wb') as fr:\n",
    "    pickle.dump(sparse_mat, fr)"
   ]
  },
  {
   "cell_type": "code",
   "execution_count": 140,
   "metadata": {},
   "outputs": [],
   "source": [
    "import numpy as np\n",
    "from scipy import sparse\n",
    "from scipy.sparse import csr_matrix\n",
    "\n",
    "sparse_mat = sparse.csr_matrix(X_train)"
   ]
  },
  {
   "cell_type": "code",
   "execution_count": null,
   "metadata": {},
   "outputs": [],
   "source": []
  },
  {
   "cell_type": "code",
   "execution_count": 85,
   "metadata": {},
   "outputs": [
    {
     "name": "stdout",
     "output_type": "stream",
     "text": [
      "테스트 정확도: 0.812\n"
     ]
    }
   ],
   "source": [
    "nbc = MultinomialNB()\n",
    "nbc.fit(X_train, y_train)\n",
    "y_pred = nbc.predict(X_test)\n",
    "print(\"테스트 정확도: {:.3f}\".format(accuracy_score(y_test, y_pred)))"
   ]
  }
 ],
 "metadata": {
  "kernelspec": {
   "display_name": "Python 3",
   "language": "python",
   "name": "python3"
  },
  "language_info": {
   "codemirror_mode": {
    "name": "ipython",
    "version": 3
   },
   "file_extension": ".py",
   "mimetype": "text/x-python",
   "name": "python",
   "nbconvert_exporter": "python",
   "pygments_lexer": "ipython3",
   "version": "3.7.6"
  }
 },
 "nbformat": 4,
 "nbformat_minor": 4
}
